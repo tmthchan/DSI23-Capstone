{
 "cells": [
  {
   "cell_type": "markdown",
   "id": "71ed9e0b",
   "metadata": {},
   "source": [
    "## 6. Reference Model Application"
   ]
  },
  {
   "cell_type": "code",
   "execution_count": 1,
   "id": "ae2700b9",
   "metadata": {},
   "outputs": [],
   "source": [
    "# import libraries\n",
    "import numpy as np\n",
    "import random\n",
    "from random import randint\n",
    "from pickle import load\n",
    "from tensorflow.keras.models import load_model\n",
    "from tensorflow.keras.preprocessing.sequence import pad_sequences\n",
    "from nltk.translate.bleu_score import sentence_bleu, corpus_bleu, SmoothingFunction\n",
    "from rouge import Rouge\n",
    "\n",
    "# set random seed\n",
    "random.seed(1234)"
   ]
  },
  {
   "cell_type": "markdown",
   "id": "64a53c12",
   "metadata": {},
   "source": [
    "### 6.1 Load Text Document"
   ]
  },
  {
   "cell_type": "code",
   "execution_count": 2,
   "id": "ff47a0c7",
   "metadata": {},
   "outputs": [],
   "source": [
    "# load doc into memory\n",
    "def load_doc(filename):\n",
    "    # open the file as read only\n",
    "    file = open(filename,'r')\n",
    "    # read all text\n",
    "    text = file.read()\n",
    "    # close the file\n",
    "    file.close()\n",
    "    return text"
   ]
  },
  {
   "cell_type": "markdown",
   "id": "88cc9682",
   "metadata": {},
   "source": [
    "#### Load Frank Kafka - Metamorphosis Text"
   ]
  },
  {
   "cell_type": "code",
   "execution_count": 3,
   "id": "81c323d5",
   "metadata": {},
   "outputs": [],
   "source": [
    "# load cleaned text sequences from metamorphosis\n",
    "in_filename = '../data/Text_Sequences_50_meta.txt'\n",
    "doc = load_doc(in_filename)\n",
    "meta_lines = doc.split('\\n')"
   ]
  },
  {
   "cell_type": "markdown",
   "id": "301f459e",
   "metadata": {},
   "source": [
    "#### Load Frank Kafka - The Castle Text"
   ]
  },
  {
   "cell_type": "code",
   "execution_count": 4,
   "id": "f9202580",
   "metadata": {},
   "outputs": [],
   "source": [
    "# load cleaned text sequences from the castle\n",
    "in_filename = '../data/Text_Sequences_50_castle.txt'\n",
    "doc = load_doc(in_filename)\n",
    "castle_lines = doc.split('\\n')"
   ]
  },
  {
   "cell_type": "markdown",
   "id": "834cbc0b",
   "metadata": {},
   "source": [
    "#### Load Haruki Murakami - Kafka on the Shore Text"
   ]
  },
  {
   "cell_type": "code",
   "execution_count": 5,
   "id": "135a9d9f",
   "metadata": {},
   "outputs": [],
   "source": [
    "# load cleaned text sequences from kafka on the shore\n",
    "in_filename = '../data/Text_Sequences_50_kots.txt'\n",
    "doc = load_doc(in_filename)\n",
    "kots_lines = doc.split('\\n')"
   ]
  },
  {
   "cell_type": "markdown",
   "id": "d182937b",
   "metadata": {},
   "source": [
    "#### Sequence Length"
   ]
  },
  {
   "cell_type": "code",
   "execution_count": 6,
   "id": "475a2689",
   "metadata": {},
   "outputs": [
    {
     "data": {
      "text/plain": [
       "51"
      ]
     },
     "execution_count": 6,
     "metadata": {},
     "output_type": "execute_result"
    }
   ],
   "source": [
    "# number of words in each line\n",
    "len(meta_lines[0].split())"
   ]
  },
  {
   "cell_type": "code",
   "execution_count": 7,
   "id": "59d3786e",
   "metadata": {},
   "outputs": [
    {
     "data": {
      "text/plain": [
       "50"
      ]
     },
     "execution_count": 7,
     "metadata": {},
     "output_type": "execute_result"
    }
   ],
   "source": [
    "# seq_length will be the number of words minus the expected output word\n",
    "seq_length = len(meta_lines[0].split()) - 1\n",
    "seq_length"
   ]
  },
  {
   "cell_type": "markdown",
   "id": "1eb3680a",
   "metadata": {},
   "source": [
    "### 6.2 Load Model"
   ]
  },
  {
   "cell_type": "code",
   "execution_count": 8,
   "id": "06bfa23d",
   "metadata": {},
   "outputs": [],
   "source": [
    "# load reference model\n",
    "model = load_model('model_ref.h5')"
   ]
  },
  {
   "cell_type": "code",
   "execution_count": 9,
   "id": "67d7c0ba",
   "metadata": {},
   "outputs": [],
   "source": [
    "# load tokenizer\n",
    "tokenizer = load(open('tokenizer.pkl', 'rb'))"
   ]
  },
  {
   "cell_type": "markdown",
   "id": "062c6813",
   "metadata": {},
   "source": [
    "### 6.3 Generate Text"
   ]
  },
  {
   "cell_type": "markdown",
   "id": "025b6041",
   "metadata": {},
   "source": [
    "#### Define sequence generating function"
   ]
  },
  {
   "cell_type": "code",
   "execution_count": 10,
   "id": "1d3a14ff",
   "metadata": {},
   "outputs": [],
   "source": [
    "# generate a sequence from the language model\n",
    "def generate_seq(model, tokenizer, seq_length, seed_text, n_words):\n",
    "    result = list()\n",
    "    in_text = seed_text\n",
    "    # generate a fixed number of words\n",
    "    for _ in range(n_words):\n",
    "        # encode seed text to integers using tokenizer\n",
    "        # index 0 must be specified to extract list of intergers from array\n",
    "        encoded = tokenizer.texts_to_sequences([in_text])[0]\n",
    "        # truncate sequences into a fixed length\n",
    "        encoded = pad_sequences([encoded], maxlen=seq_length, truncating='pre')\n",
    "        # predict probabilities for each word\n",
    "        # replaced yhat = model.predict_classes(encoded,verbose=0)\n",
    "        yhat = np.argmax(model.predict(encoded), axis=-1)\n",
    "        # map predicted word index to word\n",
    "        out_word = ''\n",
    "        for word, index in tokenizer.word_index.items():\n",
    "            if index == yhat:\n",
    "                out_word = word\n",
    "                break\n",
    "        # append to input\n",
    "        in_text += ' ' + out_word\n",
    "        result.append(out_word)\n",
    "    return ' '.join(result)"
   ]
  },
  {
   "cell_type": "markdown",
   "id": "09eb9dab",
   "metadata": {},
   "source": [
    "#### Metamorphosis - Seed Text"
   ]
  },
  {
   "cell_type": "code",
   "execution_count": 11,
   "id": "a7250a60",
   "metadata": {},
   "outputs": [
    {
     "name": "stdout",
     "output_type": "stream",
     "text": [
      "Seed text taken from index: 14441\n",
      "\n",
      "sister would urge each other to be quiet his mother bent deeply under the lamp would sew fancy underwear for a fashion shop his sister who had taken a sales job learned shorthand and french in the evenings so that she might be able to get a better position later on\n",
      "\n"
     ]
    }
   ],
   "source": [
    "# select seed text from Metamorphosis\n",
    "meta_index = randint(0, len(meta_lines)-120)\n",
    "meta_seed_text = meta_lines[meta_index]\n",
    "print(\"Seed text taken from index: \" + str(meta_index) + '\\n')\n",
    "print(meta_seed_text + '\\n')"
   ]
  },
  {
   "cell_type": "markdown",
   "id": "8b685637",
   "metadata": {},
   "source": [
    "#### Metamorphosis - Reference Text"
   ]
  },
  {
   "cell_type": "code",
   "execution_count": 12,
   "id": "80c88df7",
   "metadata": {},
   "outputs": [
    {
     "name": "stdout",
     "output_type": "stream",
     "text": [
      "sometimes his father would wake up and say to mother doing so much sewing again as if he did not know that he had been then he would go back to sleep again while mother and sister would exchange a tired grin with a kind of stubbornness father refused to take\n"
     ]
    }
   ],
   "source": [
    "meta_ref = meta_lines[meta_index+51]\n",
    "print(meta_ref)"
   ]
  },
  {
   "cell_type": "markdown",
   "id": "17b01814",
   "metadata": {},
   "source": [
    "####  Metamorphosis - Predicted Text"
   ]
  },
  {
   "cell_type": "code",
   "execution_count": 13,
   "id": "958be815",
   "metadata": {},
   "outputs": [],
   "source": [
    "# input length of output sequence; n_words = 50 \n",
    "# seq_length = 50 as assigned when loading the text document\n",
    "meta_pred = generate_seq(model, tokenizer, seq_length, meta_seed_text, 50)"
   ]
  },
  {
   "cell_type": "code",
   "execution_count": 14,
   "id": "56a76166",
   "metadata": {},
   "outputs": [
    {
     "name": "stdout",
     "output_type": "stream",
     "text": [
      "his belly was fully in all and as he had never asked him he would have woken him to hear the room at a little scream as he sought already and the living room where he had been struck like it showed that he had been struck like it showed\n"
     ]
    }
   ],
   "source": [
    "print(meta_pred)"
   ]
  },
  {
   "cell_type": "code",
   "execution_count": 15,
   "id": "ff5d5ba6",
   "metadata": {},
   "outputs": [
    {
     "name": "stdout",
     "output_type": "stream",
     "text": [
      "his belly was fully in all and as he had never asked him he would have woken him to hear the room at a little scream as he sought already and the living room where he had been struck like it showed that he had been struck like it showed the chief clerk had been to arrange himself much sewing two long time for such him and crying paid the chief clerk had been going on the living room he would disappear the chief clerk had been going out gently out from front of him and found him snapping in the room and waited to move toward it he had been struck with all the difficulty next mother and sister had been able to move up in the living room and was something out the window breathing thing for him and shaking the serviettes and picked up the next room and the charwoman were news to establish the man spineless and and smiled sweetly the other two of them for him he was to her satisfaction and sides and was something it was already sucking than the chief clerk had been going out gently out from front of them and\n"
     ]
    }
   ],
   "source": [
    "# input length of output sequence; n_words = 50 \n",
    "# seq_length = 50 as assigned when loading the text document\n",
    "meta_pred_200 = generate_seq(model, tokenizer, seq_length, meta_seed_text, 200)\n",
    "print(meta_pred_200)"
   ]
  },
  {
   "cell_type": "markdown",
   "id": "9adff99d",
   "metadata": {},
   "source": [
    "#### The Castle - Seed Text"
   ]
  },
  {
   "cell_type": "code",
   "execution_count": 16,
   "id": "01929b93",
   "metadata": {},
   "outputs": [
    {
     "name": "stdout",
     "output_type": "stream",
     "text": [
      "Seed text taken from index: 119\n",
      "\n",
      "not want to talk to anyone got himself a straw mattress from the attic and lay down by the stove it was warm the peasants were quiet he examined them for a moment with tired eyes then fell asleep yet before long he was awakened a young man in city clothes\n",
      "\n"
     ]
    }
   ],
   "source": [
    "# select seed text from The Castle\n",
    "castle_index = randint(0, len(castle_lines)-120)\n",
    "castle_seed_text = castle_lines[castle_index]\n",
    "print(\"Seed text taken from index: \" + str(castle_index) + '\\n')\n",
    "print(castle_seed_text + '\\n')"
   ]
  },
  {
   "cell_type": "markdown",
   "id": "647891c1",
   "metadata": {},
   "source": [
    "#### The Castle - Reference Text"
   ]
  },
  {
   "cell_type": "code",
   "execution_count": 17,
   "id": "7de7962c",
   "metadata": {},
   "outputs": [
    {
     "name": "stdout",
     "output_type": "stream",
     "text": [
      "with an actors face narrow eyes thick eyebrows stood beside him with the landlord the peasants too were still there a few had turned their chairs around to see and hear better the young man apologized very politely for having awakened k introduced himself as the son of the castle steward\n"
     ]
    }
   ],
   "source": [
    "castle_ref = castle_lines[castle_index+51]\n",
    "print(castle_ref)"
   ]
  },
  {
   "cell_type": "markdown",
   "id": "d9dee116",
   "metadata": {},
   "source": [
    "#### The Castle - Predicted Text"
   ]
  },
  {
   "cell_type": "code",
   "execution_count": 18,
   "id": "a73dc8df",
   "metadata": {},
   "outputs": [],
   "source": [
    "# input length of output sequence; n_words = 50 \n",
    "# seq_length = 50 as assigned when loading the text document\n",
    "castle_pred = generate_seq(model, tokenizer, seq_length, castle_seed_text, 50)"
   ]
  },
  {
   "cell_type": "code",
   "execution_count": 19,
   "id": "0d115421",
   "metadata": {},
   "outputs": [
    {
     "name": "stdout",
     "output_type": "stream",
     "text": [
      "and would not miss thoroughly closely to him that he was not something that was quite different from lying on the contrary gregor spoke around he had been struck like it showed the chief clerk had been used to the door of the hallway and especially up from front of\n"
     ]
    }
   ],
   "source": [
    "print(castle_pred)"
   ]
  },
  {
   "cell_type": "markdown",
   "id": "97a3de4f",
   "metadata": {},
   "source": [
    "#### Kafka on the Shore - Seed Text"
   ]
  },
  {
   "cell_type": "code",
   "execution_count": 20,
   "id": "f788bd51",
   "metadata": {},
   "outputs": [
    {
     "name": "stdout",
     "output_type": "stream",
     "text": [
      "Seed text taken from index: 3\n",
      "\n",
      "i take from my study when i leave home i take a small old gold like the design and feel of a folding knife with a really sharp blade made to skin deer it has a five inch blade and a nice heft probably something he bought on one of his\n",
      "\n"
     ]
    }
   ],
   "source": [
    "# select seed text from Kafka on the Shore\n",
    "kots_index = randint(0, len(kots_lines)-120)\n",
    "kots_seed_text = kots_lines[kots_index]\n",
    "print(\"Seed text taken from index: \" + str(kots_index) + '\\n')\n",
    "print(kots_seed_text + '\\n')"
   ]
  },
  {
   "cell_type": "markdown",
   "id": "00771b64",
   "metadata": {},
   "source": [
    "#### Kafka on the Shore - Reference Text"
   ]
  },
  {
   "cell_type": "code",
   "execution_count": 21,
   "id": "eec8fa10",
   "metadata": {},
   "outputs": [
    {
     "name": "stdout",
     "output_type": "stream",
     "text": [
      "trips abroad i also take a sturdy bright pocket flashlight out of a drawer plus sky blue revo sunglasses to disguise my age i think about taking my favorite sea dweller oyster rolex a beautiful watch but something flashy will only attract attention my cheap plastic casio watch with an alarm\n"
     ]
    }
   ],
   "source": [
    "kots_ref = kots_lines[kots_index+51]\n",
    "print(kots_ref)"
   ]
  },
  {
   "cell_type": "markdown",
   "id": "bff46d41",
   "metadata": {},
   "source": [
    "#### Kafka on the Shore - Predicted Text"
   ]
  },
  {
   "cell_type": "code",
   "execution_count": 22,
   "id": "21a866bf",
   "metadata": {},
   "outputs": [],
   "source": [
    "# input length of output sequence; n_words = 50 \n",
    "# seq_length = 50 as assigned when loading the text document\n",
    "kots_pred = generate_seq(model, tokenizer, seq_length, kots_seed_text, 50)"
   ]
  },
  {
   "cell_type": "code",
   "execution_count": 23,
   "id": "2c92d264",
   "metadata": {},
   "outputs": [
    {
     "name": "stdout",
     "output_type": "stream",
     "text": [
      "room and needed to turn as he was not believing that everyone as possible and shaking her fist that was as he had been able to get up having of the failure to move himself to hiss and hurriedly closed in reaching him the chief clerk has come round to\n"
     ]
    }
   ],
   "source": [
    "print(kots_pred)"
   ]
  },
  {
   "cell_type": "markdown",
   "id": "cd333e10",
   "metadata": {},
   "source": [
    "### 6.3 Evaluate Model"
   ]
  },
  {
   "cell_type": "markdown",
   "id": "f7f2341c",
   "metadata": {},
   "source": [
    "#### BLEU Score"
   ]
  },
  {
   "cell_type": "code",
   "execution_count": 24,
   "id": "07751b74",
   "metadata": {},
   "outputs": [],
   "source": [
    "# define bleu score function\n",
    "cc = SmoothingFunction()\n",
    "def bleu(ref, gen):\n",
    "    ref = [ref.split(\" \")]\n",
    "    gen = gen.split(\" \")\n",
    "        \n",
    "    print('Cumulative 1-gram: %f' % sentence_bleu(ref, gen, weights=(1, 0, 0, 0), smoothing_function=cc.method1))\n",
    "    print('Cumulative 2-gram: %f' % sentence_bleu(ref, gen, weights=(0.5, 0.5, 0, 0), smoothing_function=cc.method1))\n",
    "    print('Cumulative 3-gram: %f' % sentence_bleu(ref, gen, weights=(0.33, 0.33, 0.33, 0), smoothing_function=cc.method1))\n",
    "    print('Cumulative 4-gram: %f' % sentence_bleu(ref, gen, weights=(0.25, 0.25, 0.25, 0.25), smoothing_function=cc.method1))"
   ]
  },
  {
   "cell_type": "code",
   "execution_count": 25,
   "id": "b7df456a",
   "metadata": {},
   "outputs": [
    {
     "name": "stdout",
     "output_type": "stream",
     "text": [
      "BLEU Score for Metamorphosis\n",
      "\n",
      "Cumulative 1-gram: 0.254852\n",
      "Cumulative 2-gram: 0.142801\n",
      "Cumulative 3-gram: 0.096317\n",
      "Cumulative 4-gram: 0.064557\n"
     ]
    }
   ],
   "source": [
    "print(\"BLEU Score for Metamorphosis\" + \"\\n\")\n",
    "bleu(meta_ref, meta_pred)"
   ]
  },
  {
   "cell_type": "code",
   "execution_count": 26,
   "id": "e3d48af7",
   "metadata": {},
   "outputs": [
    {
     "name": "stdout",
     "output_type": "stream",
     "text": [
      "BLEU Score for The Castle\n",
      "\n",
      "Cumulative 1-gram: 0.196040\n",
      "Cumulative 2-gram: 0.062623\n",
      "Cumulative 3-gram: 0.020801\n",
      "Cumulative 4-gram: 0.011368\n"
     ]
    }
   ],
   "source": [
    "print(\"BLEU Score for The Castle\" + \"\\n\")\n",
    "bleu(castle_ref, castle_pred)"
   ]
  },
  {
   "cell_type": "code",
   "execution_count": 27,
   "id": "49bd8c03",
   "metadata": {},
   "outputs": [
    {
     "name": "stdout",
     "output_type": "stream",
     "text": [
      "BLEU Score for The Kafka on the Shore\n",
      "\n",
      "Cumulative 1-gram: 0.039208\n",
      "Cumulative 2-gram: 0.008856\n",
      "Cumulative 3-gram: 0.005720\n",
      "Cumulative 4-gram: 0.004275\n"
     ]
    }
   ],
   "source": [
    "print(\"BLEU Score for The Kafka on the Shore\" + \"\\n\")\n",
    "bleu(kots_ref, kots_pred)"
   ]
  },
  {
   "cell_type": "markdown",
   "id": "15914559",
   "metadata": {},
   "source": [
    "#### ROUGE Score"
   ]
  },
  {
   "cell_type": "code",
   "execution_count": 28,
   "id": "15de713f",
   "metadata": {},
   "outputs": [],
   "source": [
    "# instantiate Rouge scoring function\n",
    "rouge = Rouge()"
   ]
  },
  {
   "cell_type": "code",
   "execution_count": 29,
   "id": "a6268752",
   "metadata": {},
   "outputs": [
    {
     "data": {
      "text/plain": [
       "[{'rouge-1': {'r': 0.25, 'p': 0.29411764705882354, 'f': 0.270270265303141},\n",
       "  'rouge-2': {'r': 0.08, 'p': 0.0975609756097561, 'f': 0.08791208296099534},\n",
       "  'rouge-l': {'r': 0.2, 'p': 0.23529411764705882, 'f': 0.21621621124908705}}]"
      ]
     },
     "execution_count": 29,
     "metadata": {},
     "output_type": "execute_result"
    }
   ],
   "source": [
    "# get rouge score for The Metamorphosis\n",
    "rouge.get_scores(meta_pred, meta_ref)"
   ]
  },
  {
   "cell_type": "code",
   "execution_count": 30,
   "id": "563c44f3",
   "metadata": {},
   "outputs": [
    {
     "data": {
      "text/plain": [
       "[{'rouge-1': {'r': 0.15217391304347827,\n",
       "   'p': 0.1891891891891892,\n",
       "   'f': 0.16867469385397024},\n",
       "  'rouge-2': {'r': 0.02, 'p': 0.020833333333333332, 'f': 0.02040815826738981},\n",
       "  'rouge-l': {'r': 0.10869565217391304,\n",
       "   'p': 0.13513513513513514,\n",
       "   'f': 0.12048192276963296}}]"
      ]
     },
     "execution_count": 30,
     "metadata": {},
     "output_type": "execute_result"
    }
   ],
   "source": [
    "# get rouge score for The Castle\n",
    "rouge.get_scores(castle_pred, castle_ref)"
   ]
  },
  {
   "cell_type": "code",
   "execution_count": 31,
   "id": "39a89f9c",
   "metadata": {},
   "outputs": [
    {
     "data": {
      "text/plain": [
       "[{'rouge-1': {'r': 0.044444444444444446,\n",
       "   'p': 0.05263157894736842,\n",
       "   'f': 0.0481927661199018},\n",
       "  'rouge-2': {'r': 0.0, 'p': 0.0, 'f': 0.0},\n",
       "  'rouge-l': {'r': 0.044444444444444446,\n",
       "   'p': 0.05263157894736842,\n",
       "   'f': 0.0481927661199018}}]"
      ]
     },
     "execution_count": 31,
     "metadata": {},
     "output_type": "execute_result"
    }
   ],
   "source": [
    "# get rouge score for Kafka on the Shore\n",
    "rouge.get_scores(kots_pred, kots_ref)"
   ]
  },
  {
   "cell_type": "code",
   "execution_count": null,
   "id": "c4bd03f2",
   "metadata": {},
   "outputs": [],
   "source": []
  }
 ],
 "metadata": {
  "kernelspec": {
   "display_name": "Python 3",
   "language": "python",
   "name": "python3"
  },
  "language_info": {
   "codemirror_mode": {
    "name": "ipython",
    "version": 3
   },
   "file_extension": ".py",
   "mimetype": "text/x-python",
   "name": "python",
   "nbconvert_exporter": "python",
   "pygments_lexer": "ipython3",
   "version": "3.8.8"
  }
 },
 "nbformat": 4,
 "nbformat_minor": 5
}
