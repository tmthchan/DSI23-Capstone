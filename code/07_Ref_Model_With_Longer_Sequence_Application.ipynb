{
 "cells": [
  {
   "cell_type": "markdown",
   "id": "71ed9e0b",
   "metadata": {},
   "source": [
    "## 7. Reference Model With Longer Sequence Application"
   ]
  },
  {
   "cell_type": "code",
   "execution_count": 1,
   "id": "ae2700b9",
   "metadata": {},
   "outputs": [],
   "source": [
    "# import libraries\n",
    "import numpy as np\n",
    "import random\n",
    "from random import randint\n",
    "from pickle import load\n",
    "from tensorflow.keras.models import load_model\n",
    "from tensorflow.keras.preprocessing.sequence import pad_sequences\n",
    "from nltk.translate.bleu_score import sentence_bleu, corpus_bleu, SmoothingFunction\n",
    "from rouge import Rouge\n",
    "\n",
    "# set random seed\n",
    "random.seed(1234)"
   ]
  },
  {
   "cell_type": "markdown",
   "id": "64a53c12",
   "metadata": {},
   "source": [
    "### 7.1 Load Text Document"
   ]
  },
  {
   "cell_type": "code",
   "execution_count": 2,
   "id": "ff47a0c7",
   "metadata": {},
   "outputs": [],
   "source": [
    "# load doc into memory\n",
    "def load_doc(filename):\n",
    "    # open the file as read only\n",
    "    file = open(filename,'r')\n",
    "    # read all text\n",
    "    text = file.read()\n",
    "    # close the file\n",
    "    file.close()\n",
    "    return text"
   ]
  },
  {
   "cell_type": "markdown",
   "id": "88cc9682",
   "metadata": {},
   "source": [
    "#### Load Frank Kafka - Metamorphosis Text"
   ]
  },
  {
   "cell_type": "code",
   "execution_count": 3,
   "id": "81c323d5",
   "metadata": {},
   "outputs": [],
   "source": [
    "# load cleaned text sequences from metamorphosis\n",
    "in_filename = '../data/Text_Sequences_100_meta.txt'\n",
    "doc = load_doc(in_filename)\n",
    "meta_lines = doc.split('\\n')"
   ]
  },
  {
   "cell_type": "markdown",
   "id": "301f459e",
   "metadata": {},
   "source": [
    "#### Load Frank Kafka - The Castle Text"
   ]
  },
  {
   "cell_type": "code",
   "execution_count": 4,
   "id": "f9202580",
   "metadata": {},
   "outputs": [],
   "source": [
    "# load cleaned text sequences from the castle\n",
    "in_filename = '../data/Text_Sequences_100_castle.txt'\n",
    "doc = load_doc(in_filename)\n",
    "castle_lines = doc.split('\\n')"
   ]
  },
  {
   "cell_type": "markdown",
   "id": "834cbc0b",
   "metadata": {},
   "source": [
    "#### Load Haruki Murakami - Kafka on the Shore Text"
   ]
  },
  {
   "cell_type": "code",
   "execution_count": 5,
   "id": "135a9d9f",
   "metadata": {},
   "outputs": [],
   "source": [
    "# load cleaned text sequences from kafka on the shore\n",
    "in_filename = '../data/Text_Sequences_100_kots.txt'\n",
    "doc = load_doc(in_filename)\n",
    "kots_lines = doc.split('\\n')"
   ]
  },
  {
   "cell_type": "markdown",
   "id": "d182937b",
   "metadata": {},
   "source": [
    "#### Sequence Length"
   ]
  },
  {
   "cell_type": "code",
   "execution_count": 6,
   "id": "475a2689",
   "metadata": {},
   "outputs": [
    {
     "data": {
      "text/plain": [
       "101"
      ]
     },
     "execution_count": 6,
     "metadata": {},
     "output_type": "execute_result"
    }
   ],
   "source": [
    "# number of words in each line\n",
    "len(meta_lines[0].split())"
   ]
  },
  {
   "cell_type": "code",
   "execution_count": 7,
   "id": "59d3786e",
   "metadata": {},
   "outputs": [
    {
     "data": {
      "text/plain": [
       "100"
      ]
     },
     "execution_count": 7,
     "metadata": {},
     "output_type": "execute_result"
    }
   ],
   "source": [
    "# seq_length will be the number of words minus the expected output word\n",
    "seq_length = len(meta_lines[0].split()) - 1\n",
    "seq_length"
   ]
  },
  {
   "cell_type": "markdown",
   "id": "1eb3680a",
   "metadata": {},
   "source": [
    "### 7.2 Load Model"
   ]
  },
  {
   "cell_type": "code",
   "execution_count": 8,
   "id": "06bfa23d",
   "metadata": {},
   "outputs": [],
   "source": [
    "# load reference model\n",
    "model = load_model('model_ref_ls.h5')"
   ]
  },
  {
   "cell_type": "code",
   "execution_count": 9,
   "id": "67d7c0ba",
   "metadata": {},
   "outputs": [],
   "source": [
    "# load tokenizer\n",
    "tokenizer = load(open('tokenizer.pkl', 'rb'))"
   ]
  },
  {
   "cell_type": "markdown",
   "id": "062c6813",
   "metadata": {},
   "source": [
    "### 7.3 Generate Text"
   ]
  },
  {
   "cell_type": "markdown",
   "id": "025b6041",
   "metadata": {},
   "source": [
    "#### Define sequence generating function"
   ]
  },
  {
   "cell_type": "code",
   "execution_count": 10,
   "id": "1d3a14ff",
   "metadata": {},
   "outputs": [],
   "source": [
    "# generate a sequence from the language model\n",
    "def generate_seq(model, tokenizer, seq_length, seed_text, n_words):\n",
    "    result = list()\n",
    "    in_text = seed_text\n",
    "    # generate a fixed number of words\n",
    "    for _ in range(n_words):\n",
    "        # encode seed text to integers using tokenizer\n",
    "        # index 0 must be specified to extract list of intergers from array\n",
    "        encoded = tokenizer.texts_to_sequences([in_text])[0]\n",
    "        # truncate sequences into a fixed length\n",
    "        encoded = pad_sequences([encoded], maxlen=seq_length, truncating='pre')\n",
    "        # predict probabilities for each word\n",
    "        # replaced yhat = model.predict_classes(encoded,verbose=0)\n",
    "        yhat = np.argmax(model.predict(encoded), axis=-1)\n",
    "        # map predicted word index to word\n",
    "        out_word = ''\n",
    "        for word, index in tokenizer.word_index.items():\n",
    "            if index == yhat:\n",
    "                out_word = word\n",
    "                break\n",
    "        # append to input\n",
    "        in_text += ' ' + out_word\n",
    "        result.append(out_word)\n",
    "    return ' '.join(result)"
   ]
  },
  {
   "cell_type": "markdown",
   "id": "09eb9dab",
   "metadata": {},
   "source": [
    "#### Metamorphosis - Seed Text"
   ]
  },
  {
   "cell_type": "code",
   "execution_count": 11,
   "id": "a7250a60",
   "metadata": {},
   "outputs": [
    {
     "name": "stdout",
     "output_type": "stream",
     "text": [
      "Seed text taken from index: 14441\n",
      "\n",
      "sister would urge each other to be quiet his mother bent deeply under the lamp would sew fancy underwear for a fashion shop his sister who had taken a sales job learned shorthand and french in the evenings so that she might be able to get a better position later on sometimes his father would wake up and say to mother doing so much sewing again as if he did not know that he had been then he would go back to sleep again while mother and sister would exchange a tired grin with a kind of stubbornness father refused to\n",
      "\n"
     ]
    }
   ],
   "source": [
    "# select seed text from Metamorphosis\n",
    "meta_index = randint(0, len(meta_lines)-120)\n",
    "meta_seed_text = meta_lines[meta_index]\n",
    "print(\"Seed text taken from index: \" + str(meta_index) + '\\n')\n",
    "print(meta_seed_text + '\\n')"
   ]
  },
  {
   "cell_type": "markdown",
   "id": "8b685637",
   "metadata": {},
   "source": [
    "#### Metamorphosis - Reference Text "
   ]
  },
  {
   "cell_type": "code",
   "execution_count": 12,
   "id": "80c88df7",
   "metadata": {},
   "outputs": [
    {
     "name": "stdout",
     "output_type": "stream",
     "text": [
      "take his uniform off even at home while his nightgown hung unused on its peg father would slumber where he was fully dressed as if always ready to serve and expecting to hear the voice of his superior even here the uniform had not been new to start with but as a result of this it slowly became even shabbier despite the efforts of mother and sister to look after it gregor would often spend the whole evening looking at all the stains on this coat with its gold buttons always kept polished and shiny while the old man in it\n"
     ]
    }
   ],
   "source": [
    "meta_ref = meta_lines[meta_index+101]\n",
    "print(meta_ref)"
   ]
  },
  {
   "cell_type": "markdown",
   "id": "17b01814",
   "metadata": {},
   "source": [
    "####  Metamorphosis - Predicted Text"
   ]
  },
  {
   "cell_type": "code",
   "execution_count": 13,
   "id": "958be815",
   "metadata": {},
   "outputs": [
    {
     "name": "stdout",
     "output_type": "stream",
     "text": [
      "stay of bed as anxious as it would have been in room which the behind but he had to be natural when gregor was already strikes together way out of the new swinging was more of a length than an effort but now and then stay of her own into would be built just seriously up with the recommend of their time for an leading again it would only close his head made him loud it if if were all they would have completely it i your far i but as a load of knew in the room might that\n"
     ]
    }
   ],
   "source": [
    "# input length of output sequence; n_words = 100 \n",
    "# seq_length = 100 as assigned when loading the text document\n",
    "meta_pred = generate_seq(model, tokenizer, seq_length, meta_seed_text, 100)\n",
    "print(meta_pred)"
   ]
  },
  {
   "cell_type": "code",
   "execution_count": 14,
   "id": "bd5c085f",
   "metadata": {},
   "outputs": [
    {
     "name": "stdout",
     "output_type": "stream",
     "text": [
      "stay of bed as anxious as it would have been in room which the behind but he had to be natural when gregor was already strikes together way out of the new swinging was more of a length than an effort but now and then stay of her own into\n"
     ]
    }
   ],
   "source": [
    "# input length of output sequence; n_words = 100 \n",
    "# seq_length = 100 as assigned when loading the text document\n",
    "meta_pred_50 = generate_seq(model, tokenizer, seq_length, meta_seed_text, 50)\n",
    "print(meta_pred_50)"
   ]
  },
  {
   "cell_type": "markdown",
   "id": "9adff99d",
   "metadata": {},
   "source": [
    "#### The Castle - Seed Text"
   ]
  },
  {
   "cell_type": "code",
   "execution_count": 15,
   "id": "01929b93",
   "metadata": {},
   "outputs": [
    {
     "name": "stdout",
     "output_type": "stream",
     "text": [
      "Seed text taken from index: 119\n",
      "\n",
      "not want to talk to anyone got himself a straw mattress from the attic and lay down by the stove it was warm the peasants were quiet he examined them for a moment with tired eyes then fell asleep yet before long he was awakened a young man in city clothes with an actors face narrow eyes thick eyebrows stood beside him with the landlord the peasants too were still there a few had turned their chairs around to see and hear better the young man apologized very politely for having awakened k introduced himself as the son of the castle\n",
      "\n"
     ]
    }
   ],
   "source": [
    "# select seed text from The Castle\n",
    "castle_index = randint(0, len(castle_lines)-120)\n",
    "castle_seed_text = castle_lines[castle_index]\n",
    "print(\"Seed text taken from index: \" + str(castle_index) + '\\n')\n",
    "print(castle_seed_text + '\\n')"
   ]
  },
  {
   "cell_type": "markdown",
   "id": "647891c1",
   "metadata": {},
   "source": [
    "#### The Castle - Reference Text"
   ]
  },
  {
   "cell_type": "code",
   "execution_count": 16,
   "id": "7de7962c",
   "metadata": {},
   "outputs": [
    {
     "name": "stdout",
     "output_type": "stream",
     "text": [
      "steward and said this village is castle property anybody residing or spending the night here is effectively residing or spending the night at the castle nobody may do so without permission from the count but you have no such permission or at least you havent shown it yet k who had half risen and smoothed his hair looked at the people from below and said what village have i wandered into so there is a castle here why of course the young man said slowly while several peasants here and there shook their heads at k the castle of count westwest\n"
     ]
    }
   ],
   "source": [
    "castle_ref = castle_lines[castle_index+101]\n",
    "print(castle_ref)"
   ]
  },
  {
   "cell_type": "markdown",
   "id": "d9dee116",
   "metadata": {},
   "source": [
    "#### The Castle - Predicted Text"
   ]
  },
  {
   "cell_type": "code",
   "execution_count": 17,
   "id": "a73dc8df",
   "metadata": {},
   "outputs": [
    {
     "name": "stdout",
     "output_type": "stream",
     "text": [
      "taking in moving mr just the chief clerk not knowing that it was not looked simple to get think the chief clerk himself for a little while not she being them it soon persecuting at her and but she would closer their into came unsure gregor he remained all a little had there he felt his into who came back and over in recent the gazing several high his into would have instance he had forefinger grasp from the living room and foot up and down the effort and he must have something him tired at words and was still\n"
     ]
    }
   ],
   "source": [
    "# input length of output sequence; n_words = 100 \n",
    "# seq_length = 50 as assigned when loading the text document\n",
    "castle_pred = generate_seq(model, tokenizer, seq_length, castle_seed_text, 100)\n",
    "print(castle_pred)"
   ]
  },
  {
   "cell_type": "code",
   "execution_count": 18,
   "id": "e51e61d8",
   "metadata": {},
   "outputs": [
    {
     "name": "stdout",
     "output_type": "stream",
     "text": [
      "taking in moving mr just the chief clerk not knowing that it was not looked simple to get think the chief clerk himself for a little while not she being them it soon persecuting at her and but she would closer their into came unsure gregor he remained all a\n"
     ]
    }
   ],
   "source": [
    "# input length of output sequence; n_words = 100 \n",
    "# seq_length = 50 as assigned when loading the text document\n",
    "castle_pred_50 = generate_seq(model, tokenizer, seq_length, castle_seed_text, 50)\n",
    "print(castle_pred_50)"
   ]
  },
  {
   "cell_type": "markdown",
   "id": "97a3de4f",
   "metadata": {},
   "source": [
    "#### Kafka on the Shore - Seed Text"
   ]
  },
  {
   "cell_type": "code",
   "execution_count": 19,
   "id": "f788bd51",
   "metadata": {},
   "outputs": [
    {
     "name": "stdout",
     "output_type": "stream",
     "text": [
      "Seed text taken from index: 3\n",
      "\n",
      "i take from my study when i leave home i take a small old gold like the design and feel of a folding knife with a really sharp blade made to skin deer it has a five inch blade and a nice heft probably something he bought on one of his trips abroad i also take a sturdy bright pocket flashlight out of a drawer plus sky blue revo sunglasses to disguise my age i think about taking my favorite sea dweller oyster rolex a beautiful watch but something flashy will only attract attention my cheap plastic casio watch with an\n",
      "\n"
     ]
    }
   ],
   "source": [
    "# select seed text from Kafka on the Shore\n",
    "kots_index = randint(0, len(kots_lines)-120)\n",
    "kots_seed_text = kots_lines[kots_index]\n",
    "print(\"Seed text taken from index: \" + str(kots_index) + '\\n')\n",
    "print(kots_seed_text + '\\n')"
   ]
  },
  {
   "cell_type": "markdown",
   "id": "00771b64",
   "metadata": {},
   "source": [
    "#### Kafka on the Shore - Reference Text"
   ]
  },
  {
   "cell_type": "code",
   "execution_count": 20,
   "id": "eec8fa10",
   "metadata": {},
   "outputs": [],
   "source": [
    "kots_ref = kots_lines[kots_index+101]"
   ]
  },
  {
   "cell_type": "markdown",
   "id": "bff46d41",
   "metadata": {},
   "source": [
    "#### Kafka on the Shore - Predicted Text"
   ]
  },
  {
   "cell_type": "code",
   "execution_count": 21,
   "id": "21a866bf",
   "metadata": {},
   "outputs": [
    {
     "name": "stdout",
     "output_type": "stream",
     "text": [
      "crawled that he would miracle the taking in the hall she held mother the floor he could rather without lifted up all the evening but thoughts of the finished took things on the started that he was wrong he had used samsa mother room others any favour of the lodged them once on their against heaviest opened did not great his head back from the bed darkness dinner away were done out from become the behind and mouth down all this maybe it was to great which it the door he could still give their liked on his travellers and\n"
     ]
    }
   ],
   "source": [
    "# input length of output sequence; n_words = 100 \n",
    "# seq_length = 50 as assigned when loading the text document\n",
    "kots_pred = generate_seq(model, tokenizer, seq_length, kots_seed_text, 100)\n",
    "print(kots_pred)"
   ]
  },
  {
   "cell_type": "code",
   "execution_count": 22,
   "id": "e13e6e53",
   "metadata": {},
   "outputs": [
    {
     "name": "stdout",
     "output_type": "stream",
     "text": [
      "crawled that he would miracle the taking in the hall she held mother the floor he could rather without lifted up all the evening but thoughts of the finished took things on the started that he was wrong he had used samsa mother room others any favour of the lodged\n"
     ]
    }
   ],
   "source": [
    "# input length of output sequence; n_words = 100 \n",
    "# seq_length = 50 as assigned when loading the text document\n",
    "kots_pred_50 = generate_seq(model, tokenizer, seq_length, kots_seed_text, 50)\n",
    "print(kots_pred_50)"
   ]
  },
  {
   "cell_type": "markdown",
   "id": "cd2fd43b",
   "metadata": {},
   "source": [
    "### 7.3 Evaluate Model"
   ]
  },
  {
   "cell_type": "markdown",
   "id": "7d0e8691",
   "metadata": {},
   "source": [
    "#### BLEU Score"
   ]
  },
  {
   "cell_type": "code",
   "execution_count": 23,
   "id": "00315431",
   "metadata": {},
   "outputs": [],
   "source": [
    "cc = SmoothingFunction()\n",
    "def bleu(ref, gen):\n",
    "    ref = [ref.split(\" \")]\n",
    "    gen = gen.split(\" \")\n",
    "        \n",
    "    print('Cumulative 1-gram: %f' % sentence_bleu(ref, gen, weights=(1, 0, 0, 0), smoothing_function=cc.method1))\n",
    "    print('Cumulative 2-gram: %f' % sentence_bleu(ref, gen, weights=(0.5, 0.5, 0, 0), smoothing_function=cc.method1))\n",
    "    print('Cumulative 3-gram: %f' % sentence_bleu(ref, gen, weights=(0.33, 0.33, 0.33, 0), smoothing_function=cc.method1))\n",
    "    print('Cumulative 4-gram: %f' % sentence_bleu(ref, gen, weights=(0.25, 0.25, 0.25, 0.25), smoothing_function=cc.method1))"
   ]
  },
  {
   "cell_type": "code",
   "execution_count": 24,
   "id": "3d78e08f",
   "metadata": {},
   "outputs": [
    {
     "name": "stdout",
     "output_type": "stream",
     "text": [
      "BLEU Score for Metamorphosis\n",
      "\n",
      "Cumulative 1-gram: 0.287114\n",
      "Cumulative 2-gram: 0.075780\n",
      "Cumulative 3-gram: 0.039987\n",
      "Cumulative 4-gram: 0.015599\n"
     ]
    }
   ],
   "source": [
    "print(\"BLEU Score for Metamorphosis\" + \"\\n\")\n",
    "bleu(meta_ref, meta_pred)"
   ]
  },
  {
   "cell_type": "code",
   "execution_count": 25,
   "id": "4446638b",
   "metadata": {},
   "outputs": [
    {
     "name": "stdout",
     "output_type": "stream",
     "text": [
      "BLEU Score for The Castle\n",
      "\n",
      "Cumulative 1-gram: 0.257413\n",
      "Cumulative 2-gram: 0.050737\n",
      "Cumulative 3-gram: 0.014353\n",
      "Cumulative 4-gram: 0.007178\n"
     ]
    }
   ],
   "source": [
    "print(\"BLEU Score for The Castle\" + \"\\n\")\n",
    "bleu(castle_ref, castle_pred)"
   ]
  },
  {
   "cell_type": "code",
   "execution_count": 26,
   "id": "4b3378aa",
   "metadata": {},
   "outputs": [
    {
     "name": "stdout",
     "output_type": "stream",
     "text": [
      "BLEU Score for The Kafka on the Shore\n",
      "\n",
      "Cumulative 1-gram: 0.148507\n",
      "Cumulative 2-gram: 0.012187\n",
      "Cumulative 3-gram: 0.005599\n",
      "Cumulative 4-gram: 0.003518\n"
     ]
    }
   ],
   "source": [
    "print(\"BLEU Score for The Kafka on the Shore\" + \"\\n\")\n",
    "bleu(kots_ref, kots_pred)"
   ]
  },
  {
   "cell_type": "markdown",
   "id": "221bf79c",
   "metadata": {},
   "source": [
    "#### ROUGE Score"
   ]
  },
  {
   "cell_type": "code",
   "execution_count": 31,
   "id": "9cfa0932",
   "metadata": {},
   "outputs": [],
   "source": [
    "# instantiate Rouge scoring function\n",
    "rouge = Rouge()"
   ]
  },
  {
   "cell_type": "code",
   "execution_count": 32,
   "id": "f4283327",
   "metadata": {},
   "outputs": [
    {
     "data": {
      "text/plain": [
       "[{'rouge-1': {'r': 0.273972602739726,\n",
       "   'p': 0.2777777777777778,\n",
       "   'f': 0.2758620639657551},\n",
       "  'rouge-2': {'r': 0.02, 'p': 0.020833333333333332, 'f': 0.02040815826738981},\n",
       "  'rouge-l': {'r': 0.1232876712328767, 'p': 0.125, 'f': 0.12413792603472078}}]"
      ]
     },
     "execution_count": 32,
     "metadata": {},
     "output_type": "execute_result"
    }
   ],
   "source": [
    "# get rouge score for The Metamorphosis\n",
    "rouge.get_scores(meta_pred, meta_ref)"
   ]
  },
  {
   "cell_type": "code",
   "execution_count": 33,
   "id": "205f3cf6",
   "metadata": {},
   "outputs": [
    {
     "data": {
      "text/plain": [
       "[{'rouge-1': {'r': 0.26153846153846155,\n",
       "   'p': 0.24285714285714285,\n",
       "   'f': 0.25185184685871065},\n",
       "  'rouge-2': {'r': 0.010752688172043012,\n",
       "   'p': 0.010526315789473684,\n",
       "   'f': 0.01063829287290864},\n",
       "  'rouge-l': {'r': 0.1076923076923077, 'p': 0.1, 'f': 0.10370369871056266}}]"
      ]
     },
     "execution_count": 33,
     "metadata": {},
     "output_type": "execute_result"
    }
   ],
   "source": [
    "# get rouge score for The Castle\n",
    "rouge.get_scores(castle_pred, castle_ref)"
   ]
  },
  {
   "cell_type": "code",
   "execution_count": 34,
   "id": "13dd488b",
   "metadata": {},
   "outputs": [
    {
     "data": {
      "text/plain": [
       "[{'rouge-1': {'r': 0.1232876712328767,\n",
       "   'p': 0.1232876712328767,\n",
       "   'f': 0.12328766623287692},\n",
       "  'rouge-2': {'r': 0.0, 'p': 0.0, 'f': 0.0},\n",
       "  'rouge-l': {'r': 0.0547945205479452,\n",
       "   'p': 0.0547945205479452,\n",
       "   'f': 0.05479451554794566}}]"
      ]
     },
     "execution_count": 34,
     "metadata": {},
     "output_type": "execute_result"
    }
   ],
   "source": [
    "# get rouge score for Kafka on the Shore\n",
    "rouge.get_scores(kots_pred, kots_ref)"
   ]
  },
  {
   "cell_type": "code",
   "execution_count": null,
   "id": "9f7f02fe",
   "metadata": {},
   "outputs": [],
   "source": []
  }
 ],
 "metadata": {
  "kernelspec": {
   "display_name": "Python 3",
   "language": "python",
   "name": "python3"
  },
  "language_info": {
   "codemirror_mode": {
    "name": "ipython",
    "version": 3
   },
   "file_extension": ".py",
   "mimetype": "text/x-python",
   "name": "python",
   "nbconvert_exporter": "python",
   "pygments_lexer": "ipython3",
   "version": "3.8.8"
  }
 },
 "nbformat": 4,
 "nbformat_minor": 5
}
