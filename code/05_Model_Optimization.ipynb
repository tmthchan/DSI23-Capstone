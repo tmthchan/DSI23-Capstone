{
 "cells": [
  {
   "cell_type": "markdown",
   "id": "5e8df004",
   "metadata": {
    "id": "5e8df004"
   },
   "source": [
    "## 5. Model Optimization"
   ]
  },
  {
   "cell_type": "code",
   "execution_count": 2,
   "id": "ef9a40cc",
   "metadata": {
    "executionInfo": {
     "elapsed": 1850,
     "status": "ok",
     "timestamp": 1631055598199,
     "user": {
      "displayName": "Timothy Chan",
      "photoUrl": "https://lh3.googleusercontent.com/a-/AOh14GhZnykwOwE2V6g_Sc39ue1Efc2ob1mo97ulS3WLUA=s64",
      "userId": "04888411961521252340"
     },
     "user_tz": -480
    },
    "id": "ef9a40cc"
   },
   "outputs": [],
   "source": [
    "# import libraries\n",
    "import numpy as np\n",
    "import tensorflow as tf\n",
    "import matplotlib.pyplot as plt\n",
    "from numpy import array\n",
    "from pickle import dump\n",
    "from tensorflow.keras.preprocessing.text import Tokenizer\n",
    "from tensorflow.keras.utils import plot_model\n",
    "from tensorflow.keras.utils import to_categorical\n",
    "from tensorflow.keras.models import Sequential\n",
    "from tensorflow.keras.layers import Embedding, LSTM, Dense, Dropout, Bidirectional"
   ]
  },
  {
   "cell_type": "code",
   "execution_count": 3,
   "id": "cb307f63",
   "metadata": {
    "executionInfo": {
     "elapsed": 17,
     "status": "ok",
     "timestamp": 1631055598201,
     "user": {
      "displayName": "Timothy Chan",
      "photoUrl": "https://lh3.googleusercontent.com/a-/AOh14GhZnykwOwE2V6g_Sc39ue1Efc2ob1mo97ulS3WLUA=s64",
      "userId": "04888411961521252340"
     },
     "user_tz": -480
    },
    "id": "cb307f63"
   },
   "outputs": [],
   "source": [
    "# set random seed for numpy and tensorflow\n",
    "np.random.seed(1234)\n",
    "tf.random.set_seed(1234)"
   ]
  },
  {
   "cell_type": "markdown",
   "id": "f0d4dfcc",
   "metadata": {
    "id": "f0d4dfcc"
   },
   "source": [
    "### 5.1 Load Sequences"
   ]
  },
  {
   "cell_type": "code",
   "execution_count": 4,
   "id": "e32fb9bd",
   "metadata": {
    "executionInfo": {
     "elapsed": 16,
     "status": "ok",
     "timestamp": 1631055598203,
     "user": {
      "displayName": "Timothy Chan",
      "photoUrl": "https://lh3.googleusercontent.com/a-/AOh14GhZnykwOwE2V6g_Sc39ue1Efc2ob1mo97ulS3WLUA=s64",
      "userId": "04888411961521252340"
     },
     "user_tz": -480
    },
    "id": "e32fb9bd"
   },
   "outputs": [],
   "source": [
    "# load doc into memory\n",
    "def load_doc(filename):\n",
    "    # open file as read only\n",
    "    file = open(filename, 'r')\n",
    "    # read all text\n",
    "    text = file.read()\n",
    "    # close the file\n",
    "    file.close()\n",
    "    return text\n",
    "\n",
    "# load file\n",
    "in_filename = '../data/Text_Sequences_50_meta.txt'\n",
    "doc = load_doc(in_filename)\n",
    "lines = doc.split('\\n')"
   ]
  },
  {
   "cell_type": "markdown",
   "id": "e05a6dee",
   "metadata": {
    "id": "e05a6dee"
   },
   "source": [
    "### 5.2 Encode Sequences"
   ]
  },
  {
   "cell_type": "code",
   "execution_count": 5,
   "id": "ab565ac3",
   "metadata": {
    "executionInfo": {
     "elapsed": 1535,
     "status": "ok",
     "timestamp": 1631055599724,
     "user": {
      "displayName": "Timothy Chan",
      "photoUrl": "https://lh3.googleusercontent.com/a-/AOh14GhZnykwOwE2V6g_Sc39ue1Efc2ob1mo97ulS3WLUA=s64",
      "userId": "04888411961521252340"
     },
     "user_tz": -480
    },
    "id": "ab565ac3"
   },
   "outputs": [],
   "source": [
    "# interger encode sequences of words\n",
    "\n",
    "# instantiate Tokenizer\n",
    "tokenizer = Tokenizer()\n",
    "# updates internal vocabulary with each unique word in each line in lines\n",
    "tokenizer.fit_on_texts(lines)  \n",
    "# transform each text in lines to a sequence of integers\n",
    "sequences = tokenizer.texts_to_sequences(lines)  "
   ]
  },
  {
   "cell_type": "code",
   "execution_count": 6,
   "id": "2eb2b651",
   "metadata": {
    "colab": {
     "base_uri": "https://localhost:8080/"
    },
    "executionInfo": {
     "elapsed": 30,
     "status": "ok",
     "timestamp": 1631055599728,
     "user": {
      "displayName": "Timothy Chan",
      "photoUrl": "https://lh3.googleusercontent.com/a-/AOh14GhZnykwOwE2V6g_Sc39ue1Efc2ob1mo97ulS3WLUA=s64",
      "userId": "04888411961521252340"
     },
     "user_tz": -480
    },
    "id": "2eb2b651",
    "outputId": "2848ecb7-6d7f-4646-f7c9-c8c92cf41007",
    "scrolled": true
   },
   "outputs": [
    {
     "name": "stdout",
     "output_type": "stream",
     "text": [
      "Vocabulary size is 2534.\n"
     ]
    }
   ],
   "source": [
    "# vocabulary size\n",
    "vocab_size = len(tokenizer.word_index) + 1\n",
    "\n",
    "print('Vocabulary size is '+ str(vocab_size) + '.')"
   ]
  },
  {
   "cell_type": "markdown",
   "id": "6f9ad1c7",
   "metadata": {
    "id": "6f9ad1c7"
   },
   "source": [
    "### 5.3 Sequence Inputs & Output"
   ]
  },
  {
   "cell_type": "markdown",
   "id": "a6e02e77",
   "metadata": {
    "id": "a6e02e77"
   },
   "source": [
    "#### Assign X and y variables"
   ]
  },
  {
   "cell_type": "code",
   "execution_count": 7,
   "id": "cbb65430",
   "metadata": {
    "executionInfo": {
     "elapsed": 25,
     "status": "ok",
     "timestamp": 1631055599728,
     "user": {
      "displayName": "Timothy Chan",
      "photoUrl": "https://lh3.googleusercontent.com/a-/AOh14GhZnykwOwE2V6g_Sc39ue1Efc2ob1mo97ulS3WLUA=s64",
      "userId": "04888411961521252340"
     },
     "user_tz": -480
    },
    "id": "cbb65430"
   },
   "outputs": [],
   "source": [
    "# separate into input and output\n",
    "\n",
    "# convert list of lines in sequences to an array\n",
    "sequences = array(sequences)\n",
    "# X will contain the first 50 words (elements) in each line (dimension)\n",
    "X = sequences[:,:-1]\n",
    "# y will contain the last word (element) in each line (dimension) which will be used to train the predicted word\n",
    "y = sequences[:,-1]"
   ]
  },
  {
   "cell_type": "code",
   "execution_count": 8,
   "id": "3e0eea8c",
   "metadata": {
    "colab": {
     "base_uri": "https://localhost:8080/"
    },
    "executionInfo": {
     "elapsed": 25,
     "status": "ok",
     "timestamp": 1631055599729,
     "user": {
      "displayName": "Timothy Chan",
      "photoUrl": "https://lh3.googleusercontent.com/a-/AOh14GhZnykwOwE2V6g_Sc39ue1Efc2ob1mo97ulS3WLUA=s64",
      "userId": "04888411961521252340"
     },
     "user_tz": -480
    },
    "id": "3e0eea8c",
    "outputId": "04b54031-9388-4868-cff7-e4ac983463f1"
   },
   "outputs": [
    {
     "data": {
      "text/plain": [
       "50"
      ]
     },
     "execution_count": 8,
     "metadata": {},
     "output_type": "execute_result"
    }
   ],
   "source": [
    "# seq_length will be the number of words (elements) in each line\n",
    "seq_length = X.shape[1]\n",
    "seq_length"
   ]
  },
  {
   "cell_type": "code",
   "execution_count": 9,
   "id": "265cdf71",
   "metadata": {
    "colab": {
     "base_uri": "https://localhost:8080/"
    },
    "executionInfo": {
     "elapsed": 21,
     "status": "ok",
     "timestamp": 1631055599729,
     "user": {
      "displayName": "Timothy Chan",
      "photoUrl": "https://lh3.googleusercontent.com/a-/AOh14GhZnykwOwE2V6g_Sc39ue1Efc2ob1mo97ulS3WLUA=s64",
      "userId": "04888411961521252340"
     },
     "user_tz": -480
    },
    "id": "265cdf71",
    "outputId": "272fe616-9ff6-4f13-f824-41ea9f8630ad"
   },
   "outputs": [
    {
     "data": {
      "text/plain": [
       "(21296, 50)"
      ]
     },
     "execution_count": 9,
     "metadata": {},
     "output_type": "execute_result"
    }
   ],
   "source": [
    "# check shape of X\n",
    "X.shape"
   ]
  },
  {
   "cell_type": "code",
   "execution_count": 10,
   "id": "290ff813",
   "metadata": {
    "colab": {
     "base_uri": "https://localhost:8080/"
    },
    "executionInfo": {
     "elapsed": 19,
     "status": "ok",
     "timestamp": 1631055599730,
     "user": {
      "displayName": "Timothy Chan",
      "photoUrl": "https://lh3.googleusercontent.com/a-/AOh14GhZnykwOwE2V6g_Sc39ue1Efc2ob1mo97ulS3WLUA=s64",
      "userId": "04888411961521252340"
     },
     "user_tz": -480
    },
    "id": "290ff813",
    "outputId": "8e30f2dd-06c4-488b-b1fb-b54f129cdcdb"
   },
   "outputs": [
    {
     "name": "stdout",
     "output_type": "stream",
     "text": [
      "[[  49  155   54 ...   46  884 2522]\n",
      " [ 155   54   16 ...  884 2522    1]\n",
      " [  54   16  109 ... 2522    1 1258]\n",
      " ...\n",
      " [ 192 1250    3 ...   44    3  887]\n",
      " [1250    3  185 ...    3  887   31]\n",
      " [   3  185   79 ...  887   31   18]]\n"
     ]
    }
   ],
   "source": [
    "# preview X variable\n",
    "print(X)"
   ]
  },
  {
   "cell_type": "markdown",
   "id": "d4910124",
   "metadata": {
    "id": "d4910124"
   },
   "source": [
    "X has 21296 dimensions (rows of sequences) and 50 elements (words)."
   ]
  },
  {
   "cell_type": "code",
   "execution_count": 11,
   "id": "06846d93",
   "metadata": {
    "colab": {
     "base_uri": "https://localhost:8080/"
    },
    "executionInfo": {
     "elapsed": 18,
     "status": "ok",
     "timestamp": 1631055599731,
     "user": {
      "displayName": "Timothy Chan",
      "photoUrl": "https://lh3.googleusercontent.com/a-/AOh14GhZnykwOwE2V6g_Sc39ue1Efc2ob1mo97ulS3WLUA=s64",
      "userId": "04888411961521252340"
     },
     "user_tz": -480
    },
    "id": "06846d93",
    "outputId": "3804a504-440c-4c28-a942-f568374caa54"
   },
   "outputs": [
    {
     "data": {
      "text/plain": [
       "(21296,)"
      ]
     },
     "execution_count": 11,
     "metadata": {},
     "output_type": "execute_result"
    }
   ],
   "source": [
    "# check shape of y\n",
    "y.shape"
   ]
  },
  {
   "cell_type": "code",
   "execution_count": 12,
   "id": "7a4559c4",
   "metadata": {
    "colab": {
     "base_uri": "https://localhost:8080/"
    },
    "executionInfo": {
     "elapsed": 16,
     "status": "ok",
     "timestamp": 1631055599731,
     "user": {
      "displayName": "Timothy Chan",
      "photoUrl": "https://lh3.googleusercontent.com/a-/AOh14GhZnykwOwE2V6g_Sc39ue1Efc2ob1mo97ulS3WLUA=s64",
      "userId": "04888411961521252340"
     },
     "user_tz": -480
    },
    "id": "7a4559c4",
    "outputId": "34de6a26-f4eb-4040-d68f-8cd0add8606d"
   },
   "outputs": [
    {
     "name": "stdout",
     "output_type": "stream",
     "text": [
      "[   1 1258    7 ...   31   18  888]\n",
      "<class 'numpy.ndarray'>\n"
     ]
    }
   ],
   "source": [
    "# view output of y\n",
    "print(y)\n",
    "print(type(y))"
   ]
  },
  {
   "cell_type": "code",
   "execution_count": 13,
   "id": "2085adb6",
   "metadata": {
    "executionInfo": {
     "elapsed": 14,
     "status": "ok",
     "timestamp": 1631055599732,
     "user": {
      "displayName": "Timothy Chan",
      "photoUrl": "https://lh3.googleusercontent.com/a-/AOh14GhZnykwOwE2V6g_Sc39ue1Efc2ob1mo97ulS3WLUA=s64",
      "userId": "04888411961521252340"
     },
     "user_tz": -480
    },
    "id": "2085adb6"
   },
   "outputs": [],
   "source": [
    "# converts a class vector (integers) to binary class matrix where number of columns = vocab_size.\n",
    "y = to_categorical(y, num_classes=vocab_size)"
   ]
  },
  {
   "cell_type": "code",
   "execution_count": 14,
   "id": "c76c6ad3",
   "metadata": {
    "colab": {
     "base_uri": "https://localhost:8080/"
    },
    "executionInfo": {
     "elapsed": 14,
     "status": "ok",
     "timestamp": 1631055599732,
     "user": {
      "displayName": "Timothy Chan",
      "photoUrl": "https://lh3.googleusercontent.com/a-/AOh14GhZnykwOwE2V6g_Sc39ue1Efc2ob1mo97ulS3WLUA=s64",
      "userId": "04888411961521252340"
     },
     "user_tz": -480
    },
    "id": "c76c6ad3",
    "outputId": "6c067739-1c28-461c-e9d6-d7356e8b3548"
   },
   "outputs": [
    {
     "data": {
      "text/plain": [
       "(21296, 2534)"
      ]
     },
     "execution_count": 14,
     "metadata": {},
     "output_type": "execute_result"
    }
   ],
   "source": [
    "# check shape of y after converting to binary class matrix\n",
    "y.shape"
   ]
  },
  {
   "cell_type": "markdown",
   "id": "c8551ec0",
   "metadata": {
    "id": "c8551ec0"
   },
   "source": [
    "From the shape of y, the array consists of 21296 rows (sequences) and 2534 features (vocabulary size)."
   ]
  },
  {
   "cell_type": "code",
   "execution_count": 15,
   "id": "4d3ab13f",
   "metadata": {
    "colab": {
     "base_uri": "https://localhost:8080/"
    },
    "executionInfo": {
     "elapsed": 12,
     "status": "ok",
     "timestamp": 1631055599733,
     "user": {
      "displayName": "Timothy Chan",
      "photoUrl": "https://lh3.googleusercontent.com/a-/AOh14GhZnykwOwE2V6g_Sc39ue1Efc2ob1mo97ulS3WLUA=s64",
      "userId": "04888411961521252340"
     },
     "user_tz": -480
    },
    "id": "4d3ab13f",
    "outputId": "429b8997-5a8a-4bce-c3d2-dacdc3b55c3d"
   },
   "outputs": [
    {
     "name": "stdout",
     "output_type": "stream",
     "text": [
      "[[0. 1. 0. ... 0. 0. 0.]\n",
      " [0. 0. 0. ... 0. 0. 0.]\n",
      " [0. 0. 0. ... 0. 0. 0.]\n",
      " ...\n",
      " [0. 0. 0. ... 0. 0. 0.]\n",
      " [0. 0. 0. ... 0. 0. 0.]\n",
      " [0. 0. 0. ... 0. 0. 0.]]\n",
      "<class 'numpy.ndarray'>\n"
     ]
    }
   ],
   "source": [
    "# preview Y variable\n",
    "print(y)\n",
    "print(type(y))"
   ]
  },
  {
   "cell_type": "markdown",
   "id": "a47d6764",
   "metadata": {
    "id": "a47d6764"
   },
   "source": [
    "### 5.4 Modelling"
   ]
  },
  {
   "cell_type": "markdown",
   "id": "35b67f70",
   "metadata": {
    "id": "35b67f70"
   },
   "source": [
    "#### Define & Fit Model"
   ]
  },
  {
   "cell_type": "code",
   "execution_count": 16,
   "id": "935f6f4f",
   "metadata": {
    "executionInfo": {
     "elapsed": 792,
     "status": "ok",
     "timestamp": 1631055600515,
     "user": {
      "displayName": "Timothy Chan",
      "photoUrl": "https://lh3.googleusercontent.com/a-/AOh14GhZnykwOwE2V6g_Sc39ue1Efc2ob1mo97ulS3WLUA=s64",
      "userId": "04888411961521252340"
     },
     "user_tz": -480
    },
    "id": "935f6f4f"
   },
   "outputs": [],
   "source": [
    "# define the model function\n",
    "# assign vocab_size to 2534 and seq_length to 50\n",
    "def define_model():\n",
    "    model = Sequential()\n",
    "    model.add(Embedding(2534, 50, input_length=50))\n",
    "    # the num of hidden neurons (units) is increased from 100 to 150\n",
    "    # bidirectional LSTM is used to account for past and future inputs\n",
    "    model.add(Bidirectional(LSTM(150, return_sequences = True)))\n",
    "    # dropout is added to reduce overfitting\n",
    "    model.add(Dropout(0.2))\n",
    "    model.add(LSTM(150))\n",
    "    model.add(Dropout(0.2))\n",
    "    model.add(Dense(150, activation='relu'))\n",
    "    model.add(Dense(2534, activation='softmax'))\n",
    "    # compile network\n",
    "    model.compile(loss='categorical_crossentropy', optimizer='adam', metrics=['accuracy'])\n",
    "    return model"
   ]
  },
  {
   "cell_type": "code",
   "execution_count": 17,
   "id": "16855e80",
   "metadata": {
    "executionInfo": {
     "elapsed": 1036,
     "status": "ok",
     "timestamp": 1631055601545,
     "user": {
      "displayName": "Timothy Chan",
      "photoUrl": "https://lh3.googleusercontent.com/a-/AOh14GhZnykwOwE2V6g_Sc39ue1Efc2ob1mo97ulS3WLUA=s64",
      "userId": "04888411961521252340"
     },
     "user_tz": -480
    },
    "id": "16855e80"
   },
   "outputs": [],
   "source": [
    "# define model\n",
    "model = define_model()              "
   ]
  },
  {
   "cell_type": "code",
   "execution_count": 18,
   "id": "e5d9e545",
   "metadata": {
    "colab": {
     "base_uri": "https://localhost:8080/"
    },
    "executionInfo": {
     "elapsed": 2126936,
     "status": "ok",
     "timestamp": 1631057728473,
     "user": {
      "displayName": "Timothy Chan",
      "photoUrl": "https://lh3.googleusercontent.com/a-/AOh14GhZnykwOwE2V6g_Sc39ue1Efc2ob1mo97ulS3WLUA=s64",
      "userId": "04888411961521252340"
     },
     "user_tz": -480
    },
    "id": "e5d9e545",
    "outputId": "2d3f6d7a-17d2-4012-a388-027fedd7f572"
   },
   "outputs": [
    {
     "name": "stdout",
     "output_type": "stream",
     "text": [
      "Epoch 1/150\n",
      "333/333 [==============================] - 24s 44ms/step - loss: 6.1808 - accuracy: 0.0518\n",
      "Epoch 2/150\n",
      "333/333 [==============================] - 14s 42ms/step - loss: 5.7794 - accuracy: 0.0616\n",
      "Epoch 3/150\n",
      "333/333 [==============================] - 14s 42ms/step - loss: 5.6065 - accuracy: 0.0690\n",
      "Epoch 4/150\n",
      "333/333 [==============================] - 14s 42ms/step - loss: 5.4136 - accuracy: 0.0839\n",
      "Epoch 5/150\n",
      "333/333 [==============================] - 14s 42ms/step - loss: 5.2730 - accuracy: 0.0985\n",
      "Epoch 6/150\n",
      "333/333 [==============================] - 14s 42ms/step - loss: 5.1733 - accuracy: 0.1036\n",
      "Epoch 7/150\n",
      "333/333 [==============================] - 14s 42ms/step - loss: 5.0721 - accuracy: 0.1112\n",
      "Epoch 8/150\n",
      "333/333 [==============================] - 14s 42ms/step - loss: 4.9865 - accuracy: 0.1183\n",
      "Epoch 9/150\n",
      "333/333 [==============================] - 14s 42ms/step - loss: 4.9050 - accuracy: 0.1242\n",
      "Epoch 10/150\n",
      "333/333 [==============================] - 14s 42ms/step - loss: 4.8312 - accuracy: 0.1283\n",
      "Epoch 11/150\n",
      "333/333 [==============================] - 14s 42ms/step - loss: 4.7654 - accuracy: 0.1331\n",
      "Epoch 12/150\n",
      "333/333 [==============================] - 14s 42ms/step - loss: 4.7024 - accuracy: 0.1378\n",
      "Epoch 13/150\n",
      "333/333 [==============================] - 14s 42ms/step - loss: 4.6418 - accuracy: 0.1393\n",
      "Epoch 14/150\n",
      "333/333 [==============================] - 14s 42ms/step - loss: 4.5842 - accuracy: 0.1447\n",
      "Epoch 15/150\n",
      "333/333 [==============================] - 14s 42ms/step - loss: 4.5353 - accuracy: 0.1449\n",
      "Epoch 16/150\n",
      "333/333 [==============================] - 14s 42ms/step - loss: 4.4757 - accuracy: 0.1469\n",
      "Epoch 17/150\n",
      "333/333 [==============================] - 14s 42ms/step - loss: 4.4253 - accuracy: 0.1512\n",
      "Epoch 18/150\n",
      "333/333 [==============================] - 14s 42ms/step - loss: 4.3647 - accuracy: 0.1533\n",
      "Epoch 19/150\n",
      "333/333 [==============================] - 14s 42ms/step - loss: 4.3216 - accuracy: 0.1531\n",
      "Epoch 20/150\n",
      "333/333 [==============================] - 14s 42ms/step - loss: 4.2663 - accuracy: 0.1582\n",
      "Epoch 21/150\n",
      "333/333 [==============================] - 14s 42ms/step - loss: 4.2164 - accuracy: 0.1632\n",
      "Epoch 22/150\n",
      "333/333 [==============================] - 14s 42ms/step - loss: 4.1630 - accuracy: 0.1651\n",
      "Epoch 23/150\n",
      "333/333 [==============================] - 14s 42ms/step - loss: 4.1156 - accuracy: 0.1678\n",
      "Epoch 24/150\n",
      "333/333 [==============================] - 14s 42ms/step - loss: 4.0660 - accuracy: 0.1696\n",
      "Epoch 25/150\n",
      "333/333 [==============================] - 14s 42ms/step - loss: 4.0212 - accuracy: 0.1759\n",
      "Epoch 26/150\n",
      "333/333 [==============================] - 14s 42ms/step - loss: 3.9698 - accuracy: 0.1777\n",
      "Epoch 27/150\n",
      "333/333 [==============================] - 14s 42ms/step - loss: 3.9234 - accuracy: 0.1815\n",
      "Epoch 28/150\n",
      "333/333 [==============================] - 14s 42ms/step - loss: 3.8764 - accuracy: 0.1841\n",
      "Epoch 29/150\n",
      "333/333 [==============================] - 14s 42ms/step - loss: 3.8328 - accuracy: 0.1900\n",
      "Epoch 30/150\n",
      "333/333 [==============================] - 14s 42ms/step - loss: 3.7824 - accuracy: 0.1929\n",
      "Epoch 31/150\n",
      "333/333 [==============================] - 14s 42ms/step - loss: 3.7485 - accuracy: 0.1965\n",
      "Epoch 32/150\n",
      "333/333 [==============================] - 14s 42ms/step - loss: 3.6951 - accuracy: 0.2011\n",
      "Epoch 33/150\n",
      "333/333 [==============================] - 14s 42ms/step - loss: 3.6610 - accuracy: 0.2048\n",
      "Epoch 34/150\n",
      "333/333 [==============================] - 14s 42ms/step - loss: 3.6192 - accuracy: 0.2086\n",
      "Epoch 35/150\n",
      "333/333 [==============================] - 14s 42ms/step - loss: 3.5796 - accuracy: 0.2137\n",
      "Epoch 36/150\n",
      "333/333 [==============================] - 14s 42ms/step - loss: 3.5401 - accuracy: 0.2178\n",
      "Epoch 37/150\n",
      "333/333 [==============================] - 14s 42ms/step - loss: 3.5058 - accuracy: 0.2199\n",
      "Epoch 38/150\n",
      "333/333 [==============================] - 14s 42ms/step - loss: 3.4601 - accuracy: 0.2234\n",
      "Epoch 39/150\n",
      "333/333 [==============================] - 14s 42ms/step - loss: 3.4228 - accuracy: 0.2280\n",
      "Epoch 40/150\n",
      "333/333 [==============================] - 14s 42ms/step - loss: 3.3903 - accuracy: 0.2320\n",
      "Epoch 41/150\n",
      "333/333 [==============================] - 14s 42ms/step - loss: 3.3481 - accuracy: 0.2363\n",
      "Epoch 42/150\n",
      "333/333 [==============================] - 14s 42ms/step - loss: 3.3125 - accuracy: 0.2427\n",
      "Epoch 43/150\n",
      "333/333 [==============================] - 14s 42ms/step - loss: 3.2829 - accuracy: 0.2467\n",
      "Epoch 44/150\n",
      "333/333 [==============================] - 14s 42ms/step - loss: 3.2490 - accuracy: 0.2497\n",
      "Epoch 45/150\n",
      "333/333 [==============================] - 14s 42ms/step - loss: 3.2075 - accuracy: 0.2546\n",
      "Epoch 46/150\n",
      "333/333 [==============================] - 14s 42ms/step - loss: 3.1892 - accuracy: 0.2606\n",
      "Epoch 47/150\n",
      "333/333 [==============================] - 14s 42ms/step - loss: 3.1466 - accuracy: 0.2677\n",
      "Epoch 48/150\n",
      "333/333 [==============================] - 14s 42ms/step - loss: 3.1240 - accuracy: 0.2670\n",
      "Epoch 49/150\n",
      "333/333 [==============================] - 14s 42ms/step - loss: 3.0848 - accuracy: 0.2741\n",
      "Epoch 50/150\n",
      "333/333 [==============================] - 14s 42ms/step - loss: 3.0635 - accuracy: 0.2774\n",
      "Epoch 51/150\n",
      "333/333 [==============================] - 14s 42ms/step - loss: 3.0355 - accuracy: 0.2796\n",
      "Epoch 52/150\n",
      "333/333 [==============================] - 14s 42ms/step - loss: 3.1338 - accuracy: 0.2714\n",
      "Epoch 53/150\n",
      "333/333 [==============================] - 14s 42ms/step - loss: 2.9757 - accuracy: 0.2900\n",
      "Epoch 54/150\n",
      "333/333 [==============================] - 14s 42ms/step - loss: 2.9411 - accuracy: 0.2924\n",
      "Epoch 55/150\n",
      "333/333 [==============================] - 14s 42ms/step - loss: 2.9162 - accuracy: 0.2983\n",
      "Epoch 56/150\n",
      "333/333 [==============================] - 14s 42ms/step - loss: 2.8880 - accuracy: 0.2993\n",
      "Epoch 57/150\n",
      "333/333 [==============================] - 14s 42ms/step - loss: 2.8699 - accuracy: 0.3039\n",
      "Epoch 58/150\n",
      "333/333 [==============================] - 14s 42ms/step - loss: 2.8328 - accuracy: 0.3129\n",
      "Epoch 59/150\n",
      "333/333 [==============================] - 14s 42ms/step - loss: 2.8157 - accuracy: 0.3112\n",
      "Epoch 60/150\n",
      "333/333 [==============================] - 14s 42ms/step - loss: 2.7812 - accuracy: 0.3159\n",
      "Epoch 61/150\n",
      "333/333 [==============================] - 14s 42ms/step - loss: 2.7655 - accuracy: 0.3216\n",
      "Epoch 62/150\n",
      "333/333 [==============================] - 14s 42ms/step - loss: 2.7341 - accuracy: 0.3288\n",
      "Epoch 63/150\n",
      "333/333 [==============================] - 14s 42ms/step - loss: 2.7185 - accuracy: 0.3258\n",
      "Epoch 64/150\n",
      "333/333 [==============================] - 14s 42ms/step - loss: 2.6874 - accuracy: 0.3348\n",
      "Epoch 65/150\n",
      "333/333 [==============================] - 14s 42ms/step - loss: 2.6665 - accuracy: 0.3364\n",
      "Epoch 66/150\n",
      "333/333 [==============================] - 14s 42ms/step - loss: 2.6437 - accuracy: 0.3450\n",
      "Epoch 67/150\n",
      "333/333 [==============================] - 14s 42ms/step - loss: 2.6241 - accuracy: 0.3457\n",
      "Epoch 68/150\n",
      "333/333 [==============================] - 14s 42ms/step - loss: 2.6015 - accuracy: 0.3488\n",
      "Epoch 69/150\n",
      "333/333 [==============================] - 14s 42ms/step - loss: 2.5730 - accuracy: 0.3549\n",
      "Epoch 70/150\n",
      "333/333 [==============================] - 14s 42ms/step - loss: 2.5664 - accuracy: 0.3555\n",
      "Epoch 71/150\n",
      "333/333 [==============================] - 14s 42ms/step - loss: 2.5353 - accuracy: 0.3610\n",
      "Epoch 72/150\n",
      "333/333 [==============================] - 14s 42ms/step - loss: 2.5059 - accuracy: 0.3650\n",
      "Epoch 73/150\n",
      "333/333 [==============================] - 14s 42ms/step - loss: 2.4926 - accuracy: 0.3679\n",
      "Epoch 74/150\n",
      "333/333 [==============================] - 14s 42ms/step - loss: 2.4772 - accuracy: 0.3720\n",
      "Epoch 75/150\n",
      "333/333 [==============================] - 14s 42ms/step - loss: 2.4588 - accuracy: 0.3732\n",
      "Epoch 76/150\n",
      "333/333 [==============================] - 14s 42ms/step - loss: 2.4296 - accuracy: 0.3801\n",
      "Epoch 77/150\n",
      "333/333 [==============================] - 14s 42ms/step - loss: 2.4138 - accuracy: 0.3826\n",
      "Epoch 78/150\n",
      "333/333 [==============================] - 14s 42ms/step - loss: 2.3958 - accuracy: 0.3853\n",
      "Epoch 79/150\n",
      "333/333 [==============================] - 14s 42ms/step - loss: 2.3707 - accuracy: 0.3912\n",
      "Epoch 80/150\n",
      "333/333 [==============================] - 14s 42ms/step - loss: 2.3553 - accuracy: 0.3953\n",
      "Epoch 81/150\n",
      "333/333 [==============================] - 14s 42ms/step - loss: 2.3335 - accuracy: 0.3981\n",
      "Epoch 82/150\n",
      "333/333 [==============================] - 14s 42ms/step - loss: 2.3219 - accuracy: 0.4004\n",
      "Epoch 83/150\n",
      "333/333 [==============================] - 14s 42ms/step - loss: 2.3012 - accuracy: 0.4034\n",
      "Epoch 84/150\n",
      "333/333 [==============================] - 14s 42ms/step - loss: 2.2835 - accuracy: 0.4062\n",
      "Epoch 85/150\n",
      "333/333 [==============================] - 14s 42ms/step - loss: 2.2682 - accuracy: 0.4099\n",
      "Epoch 86/150\n",
      "333/333 [==============================] - 14s 42ms/step - loss: 2.2408 - accuracy: 0.4154\n",
      "Epoch 87/150\n",
      "333/333 [==============================] - 14s 42ms/step - loss: 2.2282 - accuracy: 0.4142\n",
      "Epoch 88/150\n",
      "333/333 [==============================] - 14s 42ms/step - loss: 2.2132 - accuracy: 0.4219\n",
      "Epoch 89/150\n",
      "333/333 [==============================] - 14s 42ms/step - loss: 2.1977 - accuracy: 0.4225\n",
      "Epoch 90/150\n",
      "333/333 [==============================] - 14s 42ms/step - loss: 2.1811 - accuracy: 0.4275\n",
      "Epoch 91/150\n",
      "333/333 [==============================] - 14s 42ms/step - loss: 2.1711 - accuracy: 0.4331\n",
      "Epoch 92/150\n",
      "333/333 [==============================] - 14s 42ms/step - loss: 2.1434 - accuracy: 0.4353\n",
      "Epoch 93/150\n",
      "333/333 [==============================] - 14s 42ms/step - loss: 2.1237 - accuracy: 0.4398\n",
      "Epoch 94/150\n",
      "333/333 [==============================] - 14s 42ms/step - loss: 2.1228 - accuracy: 0.4398\n",
      "Epoch 95/150\n",
      "333/333 [==============================] - 14s 42ms/step - loss: 2.0874 - accuracy: 0.4440\n",
      "Epoch 96/150\n",
      "333/333 [==============================] - 14s 42ms/step - loss: 2.0803 - accuracy: 0.4489\n",
      "Epoch 97/150\n",
      "333/333 [==============================] - 14s 42ms/step - loss: 2.0776 - accuracy: 0.4482\n",
      "Epoch 98/150\n",
      "333/333 [==============================] - 14s 42ms/step - loss: 2.0476 - accuracy: 0.4572\n",
      "Epoch 99/150\n",
      "333/333 [==============================] - 14s 42ms/step - loss: 2.0319 - accuracy: 0.4602\n",
      "Epoch 100/150\n",
      "333/333 [==============================] - 14s 42ms/step - loss: 2.0220 - accuracy: 0.4633\n",
      "Epoch 101/150\n",
      "333/333 [==============================] - 14s 42ms/step - loss: 2.0152 - accuracy: 0.4582\n",
      "Epoch 102/150\n",
      "333/333 [==============================] - 14s 42ms/step - loss: 2.0012 - accuracy: 0.4606\n",
      "Epoch 103/150\n",
      "333/333 [==============================] - 14s 42ms/step - loss: 1.9717 - accuracy: 0.4699\n",
      "Epoch 104/150\n",
      "333/333 [==============================] - 14s 42ms/step - loss: 1.9684 - accuracy: 0.4755\n",
      "Epoch 105/150\n",
      "333/333 [==============================] - 14s 42ms/step - loss: 1.9389 - accuracy: 0.4791\n",
      "Epoch 106/150\n",
      "333/333 [==============================] - 14s 42ms/step - loss: 1.9360 - accuracy: 0.4806\n",
      "Epoch 107/150\n",
      "333/333 [==============================] - 14s 42ms/step - loss: 1.9253 - accuracy: 0.4794\n",
      "Epoch 108/150\n",
      "333/333 [==============================] - 14s 42ms/step - loss: 1.9100 - accuracy: 0.4812\n",
      "Epoch 109/150\n",
      "333/333 [==============================] - 14s 42ms/step - loss: 1.9024 - accuracy: 0.4859\n",
      "Epoch 110/150\n",
      "333/333 [==============================] - 14s 42ms/step - loss: 1.8977 - accuracy: 0.4841\n",
      "Epoch 111/150\n",
      "333/333 [==============================] - 14s 42ms/step - loss: 1.8728 - accuracy: 0.4907\n",
      "Epoch 112/150\n",
      "333/333 [==============================] - 14s 42ms/step - loss: 1.8531 - accuracy: 0.4985\n",
      "Epoch 113/150\n",
      "333/333 [==============================] - 14s 42ms/step - loss: 1.8511 - accuracy: 0.4955\n",
      "Epoch 114/150\n",
      "333/333 [==============================] - 14s 42ms/step - loss: 1.8205 - accuracy: 0.5042\n",
      "Epoch 115/150\n",
      "333/333 [==============================] - 14s 42ms/step - loss: 1.8256 - accuracy: 0.5045\n",
      "Epoch 116/150\n",
      "333/333 [==============================] - 14s 42ms/step - loss: 1.8125 - accuracy: 0.5067\n",
      "Epoch 117/150\n",
      "333/333 [==============================] - 14s 42ms/step - loss: 1.7883 - accuracy: 0.5131\n",
      "Epoch 118/150\n",
      "333/333 [==============================] - 14s 42ms/step - loss: 1.7881 - accuracy: 0.5109\n",
      "Epoch 119/150\n",
      "333/333 [==============================] - 14s 42ms/step - loss: 1.7862 - accuracy: 0.5099\n",
      "Epoch 120/150\n",
      "333/333 [==============================] - 14s 42ms/step - loss: 1.7698 - accuracy: 0.5131\n",
      "Epoch 121/150\n",
      "333/333 [==============================] - 14s 42ms/step - loss: 1.7518 - accuracy: 0.5191\n",
      "Epoch 122/150\n",
      "333/333 [==============================] - 14s 42ms/step - loss: 1.7394 - accuracy: 0.5239\n",
      "Epoch 123/150\n",
      "333/333 [==============================] - 14s 42ms/step - loss: 1.7302 - accuracy: 0.5231\n",
      "Epoch 124/150\n",
      "333/333 [==============================] - 14s 42ms/step - loss: 1.7286 - accuracy: 0.5253\n",
      "Epoch 125/150\n",
      "333/333 [==============================] - 14s 42ms/step - loss: 1.7149 - accuracy: 0.5234\n",
      "Epoch 126/150\n",
      "333/333 [==============================] - 14s 42ms/step - loss: 1.7085 - accuracy: 0.5300\n",
      "Epoch 127/150\n",
      "333/333 [==============================] - 14s 42ms/step - loss: 1.6797 - accuracy: 0.5369\n",
      "Epoch 128/150\n",
      "333/333 [==============================] - 14s 42ms/step - loss: 1.6813 - accuracy: 0.5346\n",
      "Epoch 129/150\n",
      "333/333 [==============================] - 14s 42ms/step - loss: 1.6593 - accuracy: 0.5394\n",
      "Epoch 130/150\n",
      "333/333 [==============================] - 14s 42ms/step - loss: 1.6650 - accuracy: 0.5370\n",
      "Epoch 131/150\n",
      "333/333 [==============================] - 14s 42ms/step - loss: 1.6565 - accuracy: 0.5376\n",
      "Epoch 132/150\n",
      "333/333 [==============================] - 14s 42ms/step - loss: 1.6308 - accuracy: 0.5451\n",
      "Epoch 133/150\n",
      "333/333 [==============================] - 14s 42ms/step - loss: 1.6289 - accuracy: 0.5447\n",
      "Epoch 134/150\n",
      "333/333 [==============================] - 14s 42ms/step - loss: 1.6215 - accuracy: 0.5496\n",
      "Epoch 135/150\n",
      "333/333 [==============================] - 14s 42ms/step - loss: 1.6024 - accuracy: 0.5537\n",
      "Epoch 136/150\n",
      "333/333 [==============================] - 14s 42ms/step - loss: 1.5852 - accuracy: 0.5539\n",
      "Epoch 137/150\n",
      "333/333 [==============================] - 14s 42ms/step - loss: 1.5901 - accuracy: 0.5518\n",
      "Epoch 138/150\n",
      "333/333 [==============================] - 14s 42ms/step - loss: 1.5821 - accuracy: 0.5588\n",
      "Epoch 139/150\n",
      "333/333 [==============================] - 14s 42ms/step - loss: 1.5737 - accuracy: 0.5647\n",
      "Epoch 140/150\n",
      "333/333 [==============================] - 14s 42ms/step - loss: 1.5554 - accuracy: 0.5641\n",
      "Epoch 141/150\n",
      "333/333 [==============================] - 14s 42ms/step - loss: 1.5495 - accuracy: 0.5642\n",
      "Epoch 142/150\n",
      "333/333 [==============================] - 14s 42ms/step - loss: 1.5441 - accuracy: 0.5661\n",
      "Epoch 143/150\n",
      "333/333 [==============================] - 14s 42ms/step - loss: 1.5395 - accuracy: 0.5680\n",
      "Epoch 144/150\n",
      "333/333 [==============================] - 14s 42ms/step - loss: 1.5171 - accuracy: 0.5732\n",
      "Epoch 145/150\n",
      "333/333 [==============================] - 14s 42ms/step - loss: 1.5364 - accuracy: 0.5683\n",
      "Epoch 146/150\n",
      "333/333 [==============================] - 14s 42ms/step - loss: 1.5180 - accuracy: 0.5675\n",
      "Epoch 147/150\n",
      "333/333 [==============================] - 14s 42ms/step - loss: 1.5254 - accuracy: 0.5669\n",
      "Epoch 148/150\n",
      "333/333 [==============================] - 14s 42ms/step - loss: 1.4846 - accuracy: 0.5816\n",
      "Epoch 149/150\n",
      "333/333 [==============================] - 14s 42ms/step - loss: 1.4817 - accuracy: 0.5801\n",
      "Epoch 150/150\n",
      "333/333 [==============================] - 14s 42ms/step - loss: 1.4735 - accuracy: 0.5815\n"
     ]
    }
   ],
   "source": [
    "# fit model and assign as history\n",
    "# batch_size is reduced from 128 to 64\n",
    "# num of epochs is increased from 100 to 150\n",
    "history = model.fit(X, y, batch_size=64, epochs=150)"
   ]
  },
  {
   "cell_type": "markdown",
   "id": "f1068fdf",
   "metadata": {},
   "source": [
    "#### Plot Accuracy & Loss Curve"
   ]
  },
  {
   "cell_type": "code",
   "execution_count": 19,
   "id": "9cff124d",
   "metadata": {
    "colab": {
     "base_uri": "https://localhost:8080/"
    },
    "executionInfo": {
     "elapsed": 11,
     "status": "ok",
     "timestamp": 1631057728478,
     "user": {
      "displayName": "Timothy Chan",
      "photoUrl": "https://lh3.googleusercontent.com/a-/AOh14GhZnykwOwE2V6g_Sc39ue1Efc2ob1mo97ulS3WLUA=s64",
      "userId": "04888411961521252340"
     },
     "user_tz": -480
    },
    "id": "9cff124d",
    "outputId": "aec7a183-4809-4e53-9b39-4c59dbccae97"
   },
   "outputs": [
    {
     "name": "stdout",
     "output_type": "stream",
     "text": [
      "dict_keys(['loss', 'accuracy'])\n"
     ]
    }
   ],
   "source": [
    "print(history.history.keys())"
   ]
  },
  {
   "cell_type": "code",
   "execution_count": 20,
   "id": "c03ef2d9",
   "metadata": {
    "colab": {
     "base_uri": "https://localhost:8080/",
     "height": 510
    },
    "executionInfo": {
     "elapsed": 1671,
     "status": "ok",
     "timestamp": 1631057730142,
     "user": {
      "displayName": "Timothy Chan",
      "photoUrl": "https://lh3.googleusercontent.com/a-/AOh14GhZnykwOwE2V6g_Sc39ue1Efc2ob1mo97ulS3WLUA=s64",
      "userId": "04888411961521252340"
     },
     "user_tz": -480
    },
    "id": "c03ef2d9",
    "outputId": "de0511a5-9ecd-437b-9831-b5a71becd6da"
   },
   "outputs": [
    {
     "data": {
      "image/png": "[encoded data removed]",
      "text/plain": [
       "<Figure size 864x504 with 1 Axes>"
      ]
     },
     "metadata": {
      "needs_background": "light"
     },
     "output_type": "display_data"
    }
   ],
   "source": [
    "# plot train accuracy and loss curves\n",
    "\n",
    "# figure size and plot style\n",
    "plt.figure(figsize=(12,7)) \n",
    "plt.style.use('seaborn-whitegrid') \n",
    "\n",
    "# plot loss and accuracy curve\n",
    "plt.plot(history.history['loss'], label='Train Loss')\n",
    "plt.plot(history.history['accuracy'], label='Train Accuracy')\n",
    "plt.legend(fontsize=20);\n",
    "\n",
    "# plot title\n",
    "plt.title('Accuracy/Loss Curve', fontsize=30, pad=20, weight='bold')\n",
    "# x-axis label\n",
    "plt.xlabel('Number of Epochs', fontsize=20, labelpad=20)\n",
    "# y-axis label\n",
    "plt.ylabel('Accuracy/Loss Score', fontsize=20, labelpad=20)\n",
    "# x-ticks\n",
    "plt.xticks(fontsize=14)\n",
    "# y-ticks\n",
    "plt.yticks(fontsize=14)\n",
    "\n",
    "plt.savefig('../data/Acc_Loss_Curve_Opt_Model.png')"
   ]
  },
  {
   "cell_type": "markdown",
   "id": "404a2731",
   "metadata": {},
   "source": [
    "- The optimized model shows a lower train loss score and higher accuracy score than the reference model. The train loss is score is 1.4735 and the accuracy score is 0.5815. In comparison, the reference model displayed a loss of 2.4078 and accuracy of 0.4073.\n",
    "\n",
    "- There was a significant decrease in the loss function when the batch size was decreased from 128 to 64. This could be due to a higher number of iterations run in the optimized model due to a smaller batch size. \n",
    "\n",
    "- The use of bidirectional LSTM also increased the accuracy of the optimized model compared to the unidirectional LSTM.\n",
    "\n",
    "- Increasing the number of epochs from 100 to 150 also increased the overall accuracy of the model.\n",
    "\n",
    "- However, the accuracy and loss results are not sufficient to evaluate the models. We will analyze the BLEU and ROUGE scores of the various models to get a better observation of the model performance."
   ]
  },
  {
   "cell_type": "markdown",
   "id": "c65ba811",
   "metadata": {
    "id": "c65ba811"
   },
   "source": [
    "#### Model Summary"
   ]
  },
  {
   "cell_type": "code",
   "execution_count": 21,
   "id": "c60501d9",
   "metadata": {
    "colab": {
     "base_uri": "https://localhost:8080/"
    },
    "executionInfo": {
     "elapsed": 29,
     "status": "ok",
     "timestamp": 1631057730143,
     "user": {
      "displayName": "Timothy Chan",
      "photoUrl": "https://lh3.googleusercontent.com/a-/AOh14GhZnykwOwE2V6g_Sc39ue1Efc2ob1mo97ulS3WLUA=s64",
      "userId": "04888411961521252340"
     },
     "user_tz": -480
    },
    "id": "c60501d9",
    "outputId": "689cbfba-cc9c-4089-f986-5651f1909229"
   },
   "outputs": [
    {
     "name": "stdout",
     "output_type": "stream",
     "text": [
      "Model: \"sequential\"\n",
      "_________________________________________________________________\n",
      "Layer (type)                 Output Shape              Param #   \n",
      "=================================================================\n",
      "embedding (Embedding)        (None, 50, 50)            126700    \n",
      "_________________________________________________________________\n",
      "bidirectional (Bidirectional (None, 50, 300)           241200    \n",
      "_________________________________________________________________\n",
      "dropout (Dropout)            (None, 50, 300)           0         \n",
      "_________________________________________________________________\n",
      "lstm_1 (LSTM)                (None, 150)               270600    \n",
      "_________________________________________________________________\n",
      "dropout_1 (Dropout)          (None, 150)               0         \n",
      "_________________________________________________________________\n",
      "dense (Dense)                (None, 150)               22650     \n",
      "_________________________________________________________________\n",
      "dense_1 (Dense)              (None, 2534)              382634    \n",
      "=================================================================\n",
      "Total params: 1,043,784\n",
      "Trainable params: 1,043,784\n",
      "Non-trainable params: 0\n",
      "_________________________________________________________________\n"
     ]
    }
   ],
   "source": [
    "# print model summary\n",
    "model.summary()"
   ]
  },
  {
   "cell_type": "markdown",
   "id": "1c20b306",
   "metadata": {
    "id": "1c20b306"
   },
   "source": [
    "#### Model Plot"
   ]
  },
  {
   "cell_type": "code",
   "execution_count": 22,
   "id": "73eff130",
   "metadata": {
    "colab": {
     "base_uri": "https://localhost:8080/",
     "height": 865
    },
    "executionInfo": {
     "elapsed": 22,
     "status": "ok",
     "timestamp": 1631057730144,
     "user": {
      "displayName": "Timothy Chan",
      "photoUrl": "https://lh3.googleusercontent.com/a-/AOh14GhZnykwOwE2V6g_Sc39ue1Efc2ob1mo97ulS3WLUA=s64",
      "userId": "04888411961521252340"
     },
     "user_tz": -480
    },
    "id": "73eff130",
    "outputId": "6f223fce-9a8a-4e86-8b43-3a92e91a4b1a"
   },
   "outputs": [
    {
     "data": {
      "image/png": "[encoded data removed]",
      "text/plain": [
       "<IPython.core.display.Image object>"
      ]
     },
     "execution_count": 22,
     "metadata": {},
     "output_type": "execute_result"
    }
   ],
   "source": [
    "import pydot_ng as pydot\n",
    "\n",
    "plot_model(model, show_shapes=True, to_file='../data/Model_Plot_Opt_Model.png')"
   ]
  },
  {
   "cell_type": "markdown",
   "id": "097d20eb",
   "metadata": {
    "id": "097d20eb"
   },
   "source": [
    "#### Save Model"
   ]
  },
  {
   "cell_type": "code",
   "execution_count": 23,
   "id": "5d0d7776",
   "metadata": {
    "executionInfo": {
     "elapsed": 31,
     "status": "ok",
     "timestamp": 1631057730667,
     "user": {
      "displayName": "Timothy Chan",
      "photoUrl": "https://lh3.googleusercontent.com/a-/AOh14GhZnykwOwE2V6g_Sc39ue1Efc2ob1mo97ulS3WLUA=s64",
      "userId": "04888411961521252340"
     },
     "user_tz": -480
    },
    "id": "5d0d7776"
   },
   "outputs": [],
   "source": [
    "# save model to file\n",
    "model.save('model_opt.h5')"
   ]
  },
  {
   "cell_type": "code",
   "execution_count": 23,
   "id": "806dead4",
   "metadata": {
    "executionInfo": {
     "elapsed": 31,
     "status": "ok",
     "timestamp": 1631057730669,
     "user": {
      "displayName": "Timothy Chan",
      "photoUrl": "https://lh3.googleusercontent.com/a-/AOh14GhZnykwOwE2V6g_Sc39ue1Efc2ob1mo97ulS3WLUA=s64",
      "userId": "04888411961521252340"
     },
     "user_tz": -480
    },
    "id": "806dead4"
   },
   "outputs": [],
   "source": []
  }
 ],
 "metadata": {
  "accelerator": "GPU",
  "colab": {
   "collapsed_sections": [],
   "name": "05_Model_Optimization-Bidirectional_Opt 5.ipynb",
   "provenance": []
  },
  "kernelspec": {
   "display_name": "Python 3",
   "language": "python",
   "name": "python3"
  },
  "language_info": {
   "codemirror_mode": {
    "name": "ipython",
    "version": 3
   },
   "file_extension": ".py",
   "mimetype": "text/x-python",
   "name": "python",
   "nbconvert_exporter": "python",
   "pygments_lexer": "ipython3",
   "version": "3.8.8"
  }
 },
 "nbformat": 4,
 "nbformat_minor": 5
}
