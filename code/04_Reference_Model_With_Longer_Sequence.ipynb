{
 "cells": [
  {
   "cell_type": "markdown",
   "id": "5e8df004",
   "metadata": {},
   "source": [
    "## 4. Reference Model With Longer Sequence"
   ]
  },
  {
   "cell_type": "code",
   "execution_count": 1,
   "id": "ef9a40cc",
   "metadata": {},
   "outputs": [],
   "source": [
    "# import libraries\n",
    "import numpy as np\n",
    "import tensorflow as tf\n",
    "import matplotlib.pyplot as plt\n",
    "from numpy import array\n",
    "from pickle import dump\n",
    "from tensorflow.keras.preprocessing.text import Tokenizer\n",
    "from tensorflow.keras.utils import plot_model\n",
    "from tensorflow.keras.utils import to_categorical\n",
    "from tensorflow.keras.models import Sequential\n",
    "from tensorflow.keras.layers import Dense\n",
    "from tensorflow.keras.layers import LSTM\n",
    "from tensorflow.keras.layers import Embedding"
   ]
  },
  {
   "cell_type": "code",
   "execution_count": 2,
   "id": "cb307f63",
   "metadata": {},
   "outputs": [],
   "source": [
    "# set random seed for numpy and tensorflow\n",
    "np.random.seed(1234)\n",
    "tf.random.set_seed(1234)"
   ]
  },
  {
   "cell_type": "markdown",
   "id": "f0d4dfcc",
   "metadata": {},
   "source": [
    "### 4.1 Load Sequences"
   ]
  },
  {
   "cell_type": "code",
   "execution_count": 3,
   "id": "e32fb9bd",
   "metadata": {},
   "outputs": [],
   "source": [
    "# load doc into memory\n",
    "def load_doc(filename):\n",
    "    # open file as read only\n",
    "    file = open(filename, 'r')\n",
    "    # read all text\n",
    "    text = file.read()\n",
    "    # close the file\n",
    "    file.close()\n",
    "    return text\n",
    "\n",
    "# load file\n",
    "in_filename = '../data/Text_Sequences_100_meta.txt'\n",
    "doc = load_doc(in_filename)\n",
    "lines = doc.split('\\n')"
   ]
  },
  {
   "cell_type": "markdown",
   "id": "e05a6dee",
   "metadata": {},
   "source": [
    "### 4.2 Encode Sequences"
   ]
  },
  {
   "cell_type": "code",
   "execution_count": 4,
   "id": "ab565ac3",
   "metadata": {},
   "outputs": [],
   "source": [
    "# interger encode sequences of words\n",
    "\n",
    "# instantiate Tokenizer\n",
    "tokenizer = Tokenizer()\n",
    "# updates internal vocabulary with each unique word in each line in lines\n",
    "tokenizer.fit_on_texts(lines)  \n",
    "# transform each text in lines to a sequence of integers\n",
    "sequences = tokenizer.texts_to_sequences(lines)  "
   ]
  },
  {
   "cell_type": "code",
   "execution_count": 5,
   "id": "2eb2b651",
   "metadata": {},
   "outputs": [
    {
     "name": "stdout",
     "output_type": "stream",
     "text": [
      "Vocabulary size is 2534.\n"
     ]
    }
   ],
   "source": [
    "# vocabulary size\n",
    "vocab_size = len(tokenizer.word_index) + 1\n",
    "\n",
    "print('Vocabulary size is '+ str(vocab_size) + '.')"
   ]
  },
  {
   "cell_type": "markdown",
   "id": "6f9ad1c7",
   "metadata": {},
   "source": [
    "### 4.3 Sequence Inputs & Output"
   ]
  },
  {
   "cell_type": "markdown",
   "id": "a6e02e77",
   "metadata": {},
   "source": [
    "#### Assign X and y variables"
   ]
  },
  {
   "cell_type": "code",
   "execution_count": 6,
   "id": "cbb65430",
   "metadata": {},
   "outputs": [],
   "source": [
    "# separate into input and output\n",
    "\n",
    "# convert list of lines in sequences to an array\n",
    "sequences = array(sequences)\n",
    "# X will contain the first 50 words (elements) in each line (dimension)\n",
    "X = sequences[:,:-1]\n",
    "# y will contain the last word (element) in each line (dimension) which will be used to train the predicted word\n",
    "y = sequences[:,-1]"
   ]
  },
  {
   "cell_type": "code",
   "execution_count": 7,
   "id": "3e0eea8c",
   "metadata": {},
   "outputs": [
    {
     "data": {
      "text/plain": [
       "100"
      ]
     },
     "execution_count": 7,
     "metadata": {},
     "output_type": "execute_result"
    }
   ],
   "source": [
    "# seq_length will be the number of words (elements) in each line\n",
    "seq_length = X.shape[1]\n",
    "seq_length"
   ]
  },
  {
   "cell_type": "code",
   "execution_count": 8,
   "id": "265cdf71",
   "metadata": {},
   "outputs": [
    {
     "data": {
      "text/plain": [
       "(21246, 100)"
      ]
     },
     "execution_count": 8,
     "metadata": {},
     "output_type": "execute_result"
    }
   ],
   "source": [
    "# check shape of X\n",
    "X.shape"
   ]
  },
  {
   "cell_type": "code",
   "execution_count": 9,
   "id": "290ff813",
   "metadata": {},
   "outputs": [
    {
     "name": "stdout",
     "output_type": "stream",
     "text": [
      "[[ 49 155  54 ... 558  27 194]\n",
      " [155  54  16 ...  27 194  12]\n",
      " [ 54  16 111 ... 194  12  66]\n",
      " ...\n",
      " [ 14  26   1 ...  44   3 887]\n",
      " [ 26   1 684 ...   3 887  31]\n",
      " [  1 684  24 ... 887  31  18]]\n"
     ]
    }
   ],
   "source": [
    "# preview X variable\n",
    "print(X)"
   ]
  },
  {
   "cell_type": "markdown",
   "id": "d4910124",
   "metadata": {},
   "source": [
    "X has 21246 dimensions (rows of sequences) and 100 elements (words)."
   ]
  },
  {
   "cell_type": "code",
   "execution_count": 10,
   "id": "06846d93",
   "metadata": {},
   "outputs": [
    {
     "data": {
      "text/plain": [
       "(21246,)"
      ]
     },
     "execution_count": 10,
     "metadata": {},
     "output_type": "execute_result"
    }
   ],
   "source": [
    "# check shape of y\n",
    "y.shape"
   ]
  },
  {
   "cell_type": "code",
   "execution_count": 11,
   "id": "7a4559c4",
   "metadata": {},
   "outputs": [
    {
     "name": "stdout",
     "output_type": "stream",
     "text": [
      "[  12   66  107 ...   31   18 1254]\n",
      "<class 'numpy.ndarray'>\n"
     ]
    }
   ],
   "source": [
    "# view output of y\n",
    "print(y)\n",
    "print(type(y))"
   ]
  },
  {
   "cell_type": "code",
   "execution_count": 12,
   "id": "2085adb6",
   "metadata": {},
   "outputs": [],
   "source": [
    "# converts a class vector (integers) to binary class matrix where number of columns = vocab_size.\n",
    "y = to_categorical(y, num_classes=vocab_size)"
   ]
  },
  {
   "cell_type": "code",
   "execution_count": 13,
   "id": "c76c6ad3",
   "metadata": {},
   "outputs": [
    {
     "data": {
      "text/plain": [
       "(21246, 2534)"
      ]
     },
     "execution_count": 13,
     "metadata": {},
     "output_type": "execute_result"
    }
   ],
   "source": [
    "# check shape of y after converting to binary class matrix\n",
    "y.shape"
   ]
  },
  {
   "cell_type": "markdown",
   "id": "c8551ec0",
   "metadata": {},
   "source": [
    "From the shape of y, the array consists of 21246 rows (sequences) and 2534 features (vocabulary size)."
   ]
  },
  {
   "cell_type": "code",
   "execution_count": 14,
   "id": "4d3ab13f",
   "metadata": {},
   "outputs": [
    {
     "name": "stdout",
     "output_type": "stream",
     "text": [
      "[[0. 0. 0. ... 0. 0. 0.]\n",
      " [0. 0. 0. ... 0. 0. 0.]\n",
      " [0. 0. 0. ... 0. 0. 0.]\n",
      " ...\n",
      " [0. 0. 0. ... 0. 0. 0.]\n",
      " [0. 0. 0. ... 0. 0. 0.]\n",
      " [0. 0. 0. ... 0. 0. 0.]]\n",
      "<class 'numpy.ndarray'>\n"
     ]
    }
   ],
   "source": [
    "# preview Y variable\n",
    "print(y)\n",
    "print(type(y))"
   ]
  },
  {
   "cell_type": "markdown",
   "id": "a47d6764",
   "metadata": {},
   "source": [
    "### 4.4 Modelling"
   ]
  },
  {
   "cell_type": "markdown",
   "id": "526cb297",
   "metadata": {},
   "source": [
    "#### Define & Fit Model"
   ]
  },
  {
   "cell_type": "code",
   "execution_count": 15,
   "id": "935f6f4f",
   "metadata": {},
   "outputs": [],
   "source": [
    "# define the model function\n",
    "# vocab_size = 2534 and seq_length = 100\n",
    "def define_model():\n",
    "    model = Sequential()\n",
    "    model.add(Embedding(2534, 100, input_length=100))\n",
    "    model.add(LSTM(100, return_sequences=True))\n",
    "    model.add(LSTM(100))\n",
    "    model.add(Dense(100, activation='relu'))\n",
    "    model.add(Dense(2534, activation='softmax'))\n",
    "    # compile network\n",
    "    model.compile(loss='categorical_crossentropy', optimizer='adam', metrics=['accuracy'])\n",
    "    return model"
   ]
  },
  {
   "cell_type": "code",
   "execution_count": 16,
   "id": "16855e80",
   "metadata": {},
   "outputs": [],
   "source": [
    "# define model\n",
    "model = define_model()        "
   ]
  },
  {
   "cell_type": "code",
   "execution_count": 17,
   "id": "e5d9e545",
   "metadata": {},
   "outputs": [
    {
     "name": "stdout",
     "output_type": "stream",
     "text": [
      "Epoch 1/100\n",
      "166/166 [==============================] - 48s 270ms/step - loss: 6.3382 - accuracy: 0.0509\n",
      "Epoch 2/100\n",
      "166/166 [==============================] - 44s 268ms/step - loss: 5.9524 - accuracy: 0.0537\n",
      "Epoch 3/100\n",
      "166/166 [==============================] - 44s 265ms/step - loss: 5.8245 - accuracy: 0.0554\n",
      "Epoch 4/100\n",
      "166/166 [==============================] - 45s 271ms/step - loss: 5.6779 - accuracy: 0.0658\n",
      "Epoch 5/100\n",
      "166/166 [==============================] - 48s 287ms/step - loss: 5.5715 - accuracy: 0.0733\n",
      "Epoch 6/100\n",
      "166/166 [==============================] - 45s 272ms/step - loss: 5.4376 - accuracy: 0.0830\n",
      "Epoch 7/100\n",
      "166/166 [==============================] - 44s 263ms/step - loss: 5.3125 - accuracy: 0.0934\n",
      "Epoch 8/100\n",
      "166/166 [==============================] - 43s 257ms/step - loss: 5.2157 - accuracy: 0.1031\n",
      "Epoch 9/100\n",
      "166/166 [==============================] - 43s 257ms/step - loss: 5.1271 - accuracy: 0.1091\n",
      "Epoch 10/100\n",
      "166/166 [==============================] - 43s 257ms/step - loss: 5.0472 - accuracy: 0.1138\n",
      "Epoch 11/100\n",
      "166/166 [==============================] - 43s 258ms/step - loss: 4.9725 - accuracy: 0.1186\n",
      "Epoch 12/100\n",
      "166/166 [==============================] - 43s 260ms/step - loss: 4.9035 - accuracy: 0.1216\n",
      "Epoch 13/100\n",
      "166/166 [==============================] - 43s 258ms/step - loss: 4.8385 - accuracy: 0.1267\n",
      "Epoch 14/100\n",
      "166/166 [==============================] - 43s 261ms/step - loss: 4.7680 - accuracy: 0.1348\n",
      "Epoch 15/100\n",
      "166/166 [==============================] - 43s 258ms/step - loss: 4.7007 - accuracy: 0.1406\n",
      "Epoch 16/100\n",
      "166/166 [==============================] - 43s 256ms/step - loss: 4.6386 - accuracy: 0.1446\n",
      "Epoch 17/100\n",
      "166/166 [==============================] - 42s 256ms/step - loss: 4.5825 - accuracy: 0.1481\n",
      "Epoch 18/100\n",
      "166/166 [==============================] - 43s 257ms/step - loss: 4.5237 - accuracy: 0.1506\n",
      "Epoch 19/100\n",
      "166/166 [==============================] - 43s 260ms/step - loss: 4.4708 - accuracy: 0.1546\n",
      "Epoch 20/100\n",
      "166/166 [==============================] - 43s 257ms/step - loss: 4.4210 - accuracy: 0.1565\n",
      "Epoch 21/100\n",
      "166/166 [==============================] - 43s 259ms/step - loss: 4.3665 - accuracy: 0.1614\n",
      "Epoch 22/100\n",
      "166/166 [==============================] - 43s 259ms/step - loss: 4.3115 - accuracy: 0.1637\n",
      "Epoch 23/100\n",
      "166/166 [==============================] - 43s 259ms/step - loss: 4.2624 - accuracy: 0.1688\n",
      "Epoch 24/100\n",
      "166/166 [==============================] - 43s 257ms/step - loss: 4.2105 - accuracy: 0.1725\n",
      "Epoch 25/100\n",
      "166/166 [==============================] - 43s 259ms/step - loss: 4.1589 - accuracy: 0.1753\n",
      "Epoch 26/100\n",
      "166/166 [==============================] - 43s 259ms/step - loss: 4.1080 - accuracy: 0.1799\n",
      "Epoch 27/100\n",
      "166/166 [==============================] - 42s 256ms/step - loss: 4.0595 - accuracy: 0.1834\n",
      "Epoch 28/100\n",
      "166/166 [==============================] - 43s 256ms/step - loss: 4.0115 - accuracy: 0.1862\n",
      "Epoch 29/100\n",
      "166/166 [==============================] - 42s 256ms/step - loss: 4.3643 - accuracy: 0.1613\n",
      "Epoch 30/100\n",
      "166/166 [==============================] - 42s 256ms/step - loss: 4.2262 - accuracy: 0.1631\n",
      "Epoch 31/100\n",
      "166/166 [==============================] - 42s 255ms/step - loss: 4.0636 - accuracy: 0.1794\n",
      "Epoch 32/100\n",
      "166/166 [==============================] - 42s 255ms/step - loss: 3.9768 - accuracy: 0.1876\n",
      "Epoch 33/100\n",
      "166/166 [==============================] - 43s 257ms/step - loss: 3.9093 - accuracy: 0.1936\n",
      "Epoch 34/100\n",
      "166/166 [==============================] - 43s 256ms/step - loss: 3.8408 - accuracy: 0.2019\n",
      "Epoch 35/100\n",
      "166/166 [==============================] - 43s 257ms/step - loss: 3.7718 - accuracy: 0.2067\n",
      "Epoch 36/100\n",
      "166/166 [==============================] - 42s 254ms/step - loss: 3.7123 - accuracy: 0.2138\n",
      "Epoch 37/100\n",
      "166/166 [==============================] - 44s 265ms/step - loss: 3.6433 - accuracy: 0.2198\n",
      "Epoch 38/100\n",
      "166/166 [==============================] - 45s 273ms/step - loss: 3.5759 - accuracy: 0.2297\n",
      "Epoch 39/100\n",
      "166/166 [==============================] - 44s 267ms/step - loss: 3.5106 - accuracy: 0.2369\n",
      "Epoch 40/100\n",
      "166/166 [==============================] - 49s 293ms/step - loss: 3.4420 - accuracy: 0.2456\n",
      "Epoch 41/100\n",
      "166/166 [==============================] - 46s 278ms/step - loss: 3.3780 - accuracy: 0.2520\n",
      "Epoch 42/100\n",
      "166/166 [==============================] - 45s 271ms/step - loss: 3.3108 - accuracy: 0.2627\n",
      "Epoch 43/100\n",
      "166/166 [==============================] - 43s 260ms/step - loss: 3.2401 - accuracy: 0.2732\n",
      "Epoch 44/100\n",
      "166/166 [==============================] - 44s 265ms/step - loss: 3.1725 - accuracy: 0.2787\n",
      "Epoch 45/100\n",
      "166/166 [==============================] - 46s 279ms/step - loss: 3.1005 - accuracy: 0.2945\n",
      "Epoch 46/100\n",
      "166/166 [==============================] - 44s 264ms/step - loss: 3.0287 - accuracy: 0.3009\n",
      "Epoch 47/100\n",
      "166/166 [==============================] - 45s 272ms/step - loss: 2.9620 - accuracy: 0.3126\n",
      "Epoch 48/100\n",
      "166/166 [==============================] - 43s 261ms/step - loss: 2.8910 - accuracy: 0.3213\n",
      "Epoch 49/100\n",
      "166/166 [==============================] - 43s 259ms/step - loss: 2.8233 - accuracy: 0.3361\n",
      "Epoch 50/100\n",
      "166/166 [==============================] - 43s 259ms/step - loss: 2.7501 - accuracy: 0.3496\n",
      "Epoch 51/100\n",
      "166/166 [==============================] - 43s 259ms/step - loss: 2.6814 - accuracy: 0.3600\n",
      "Epoch 52/100\n",
      "166/166 [==============================] - 43s 260ms/step - loss: 2.6183 - accuracy: 0.3728\n",
      "Epoch 53/100\n",
      "166/166 [==============================] - 43s 261ms/step - loss: 2.5439 - accuracy: 0.3820\n",
      "Epoch 54/100\n",
      "166/166 [==============================] - 44s 264ms/step - loss: 2.4863 - accuracy: 0.3950\n",
      "Epoch 55/100\n",
      "166/166 [==============================] - 44s 263ms/step - loss: 2.4220 - accuracy: 0.4099\n",
      "Epoch 56/100\n",
      "166/166 [==============================] - 43s 258ms/step - loss: 2.3584 - accuracy: 0.4221\n",
      "Epoch 57/100\n",
      "166/166 [==============================] - 43s 256ms/step - loss: 2.2788 - accuracy: 0.4373\n",
      "Epoch 58/100\n",
      "166/166 [==============================] - 43s 258ms/step - loss: 2.2277 - accuracy: 0.4491\n",
      "Epoch 59/100\n",
      "166/166 [==============================] - 43s 258ms/step - loss: 2.1561 - accuracy: 0.4656\n",
      "Epoch 60/100\n",
      "166/166 [==============================] - 43s 259ms/step - loss: 2.1024 - accuracy: 0.4767\n",
      "Epoch 61/100\n",
      "166/166 [==============================] - 43s 259ms/step - loss: 2.0372 - accuracy: 0.4893\n",
      "Epoch 62/100\n",
      "166/166 [==============================] - 43s 258ms/step - loss: 1.9759 - accuracy: 0.5031\n",
      "Epoch 63/100\n",
      "166/166 [==============================] - 43s 258ms/step - loss: 1.9117 - accuracy: 0.5218\n",
      "Epoch 64/100\n",
      "166/166 [==============================] - 43s 257ms/step - loss: 1.8545 - accuracy: 0.5323\n",
      "Epoch 65/100\n",
      "166/166 [==============================] - 43s 258ms/step - loss: 1.7993 - accuracy: 0.5479\n",
      "Epoch 66/100\n",
      "166/166 [==============================] - 43s 258ms/step - loss: 1.7337 - accuracy: 0.5649\n",
      "Epoch 67/100\n",
      "166/166 [==============================] - 43s 258ms/step - loss: 1.6792 - accuracy: 0.5746\n",
      "Epoch 68/100\n",
      "166/166 [==============================] - 43s 258ms/step - loss: 1.6266 - accuracy: 0.5880\n",
      "Epoch 69/100\n",
      "166/166 [==============================] - 43s 257ms/step - loss: 1.5738 - accuracy: 0.6012\n",
      "Epoch 70/100\n",
      "166/166 [==============================] - 43s 257ms/step - loss: 1.5245 - accuracy: 0.6126\n",
      "Epoch 71/100\n",
      "166/166 [==============================] - 43s 258ms/step - loss: 1.4686 - accuracy: 0.6281\n",
      "Epoch 72/100\n",
      "166/166 [==============================] - 43s 257ms/step - loss: 1.4096 - accuracy: 0.6435\n",
      "Epoch 73/100\n",
      "166/166 [==============================] - 43s 259ms/step - loss: 1.3581 - accuracy: 0.6591\n",
      "Epoch 74/100\n",
      "166/166 [==============================] - 43s 261ms/step - loss: 1.3066 - accuracy: 0.6712\n",
      "Epoch 75/100\n",
      "166/166 [==============================] - 43s 260ms/step - loss: 1.2667 - accuracy: 0.6806\n",
      "Epoch 76/100\n",
      "166/166 [==============================] - 45s 269ms/step - loss: 1.2142 - accuracy: 0.6902\n",
      "Epoch 77/100\n",
      "166/166 [==============================] - 45s 269ms/step - loss: 1.1657 - accuracy: 0.7087\n",
      "Epoch 78/100\n",
      "166/166 [==============================] - 44s 263ms/step - loss: 1.1235 - accuracy: 0.7181\n",
      "Epoch 79/100\n"
     ]
    },
    {
     "name": "stdout",
     "output_type": "stream",
     "text": [
      "166/166 [==============================] - 43s 260ms/step - loss: 1.0761 - accuracy: 0.7304\n",
      "Epoch 80/100\n",
      "166/166 [==============================] - 43s 259ms/step - loss: 1.0374 - accuracy: 0.7434\n",
      "Epoch 81/100\n",
      "166/166 [==============================] - 43s 259ms/step - loss: 0.9922 - accuracy: 0.7532\n",
      "Epoch 82/100\n",
      "166/166 [==============================] - 43s 258ms/step - loss: 0.9411 - accuracy: 0.7697\n",
      "Epoch 83/100\n",
      "166/166 [==============================] - 43s 259ms/step - loss: 0.9064 - accuracy: 0.7786\n",
      "Epoch 84/100\n",
      "166/166 [==============================] - 43s 259ms/step - loss: 0.8689 - accuracy: 0.7866\n",
      "Epoch 85/100\n",
      "166/166 [==============================] - 43s 258ms/step - loss: 0.8277 - accuracy: 0.7993\n",
      "Epoch 86/100\n",
      "166/166 [==============================] - 43s 260ms/step - loss: 0.7911 - accuracy: 0.8099\n",
      "Epoch 87/100\n",
      "166/166 [==============================] - 44s 264ms/step - loss: 0.7558 - accuracy: 0.8195\n",
      "Epoch 88/100\n",
      "166/166 [==============================] - 43s 260ms/step - loss: 0.7184 - accuracy: 0.8294\n",
      "Epoch 89/100\n",
      "166/166 [==============================] - 43s 259ms/step - loss: 0.6874 - accuracy: 0.8387\n",
      "Epoch 90/100\n",
      "166/166 [==============================] - 43s 260ms/step - loss: 0.6522 - accuracy: 0.8465\n",
      "Epoch 91/100\n",
      "166/166 [==============================] - 43s 260ms/step - loss: 0.6222 - accuracy: 0.8572\n",
      "Epoch 92/100\n",
      "166/166 [==============================] - 43s 261ms/step - loss: 0.5873 - accuracy: 0.8689\n",
      "Epoch 93/100\n",
      "166/166 [==============================] - 43s 260ms/step - loss: 0.5631 - accuracy: 0.8721\n",
      "Epoch 94/100\n",
      "166/166 [==============================] - 43s 260ms/step - loss: 0.5344 - accuracy: 0.8828\n",
      "Epoch 95/100\n",
      "166/166 [==============================] - 44s 262ms/step - loss: 0.5084 - accuracy: 0.8888\n",
      "Epoch 96/100\n",
      "166/166 [==============================] - 43s 260ms/step - loss: 0.4779 - accuracy: 0.8985\n",
      "Epoch 97/100\n",
      "166/166 [==============================] - 43s 260ms/step - loss: 0.4487 - accuracy: 0.9063\n",
      "Epoch 98/100\n",
      "166/166 [==============================] - 43s 261ms/step - loss: 0.4270 - accuracy: 0.9130\n",
      "Epoch 99/100\n",
      "166/166 [==============================] - 43s 259ms/step - loss: 0.4119 - accuracy: 0.9154\n",
      "Epoch 100/100\n",
      "166/166 [==============================] - 43s 258ms/step - loss: 0.3924 - accuracy: 0.9198\n"
     ]
    }
   ],
   "source": [
    "# fit model and assign as history\n",
    "history = model.fit(X, y, batch_size=128, epochs=100)"
   ]
  },
  {
   "cell_type": "markdown",
   "id": "2557cb16",
   "metadata": {},
   "source": [
    "#### Plot Accuracy & Loss Curve"
   ]
  },
  {
   "cell_type": "code",
   "execution_count": 18,
   "id": "9cff124d",
   "metadata": {},
   "outputs": [
    {
     "name": "stdout",
     "output_type": "stream",
     "text": [
      "dict_keys(['loss', 'accuracy'])\n"
     ]
    }
   ],
   "source": [
    "print(history.history.keys())"
   ]
  },
  {
   "cell_type": "code",
   "execution_count": 24,
   "id": "c03ef2d9",
   "metadata": {},
   "outputs": [
    {
     "data": {
      "image/png": "[encoded data removed]",
      "text/plain": [
       "<Figure size 864x504 with 1 Axes>"
      ]
     },
     "metadata": {},
     "output_type": "display_data"
    }
   ],
   "source": [
    "# plot train accuracy and loss curves\n",
    "\n",
    "# figure size and plot style\n",
    "plt.figure(figsize=(12,7)) \n",
    "plt.style.use('seaborn-whitegrid') \n",
    "\n",
    "# plot loss and accuracy curve\n",
    "plt.plot(history.history['loss'], label='Train Loss')\n",
    "plt.plot(history.history['accuracy'], label='Train Accuracy')\n",
    "plt.legend(fontsize=20);\n",
    "\n",
    "# plot title\n",
    "plt.title('Accuracy/Loss Curve', fontsize=30, pad=20, weight='bold')\n",
    "# x-axis label\n",
    "plt.xlabel('Number of Epochs', fontsize=20, labelpad=20)\n",
    "# y-axis label\n",
    "plt.ylabel('Accuracy/Loss Score', fontsize=20, labelpad=20)\n",
    "# x-ticks\n",
    "plt.xticks(fontsize=14)\n",
    "# y-ticks\n",
    "plt.yticks(fontsize=14)\n",
    "\n",
    "plt.savefig('../data/Acc_Loss_Curve_Ref_Model_LS.png')"
   ]
  },
  {
   "cell_type": "markdown",
   "id": "89c57531",
   "metadata": {},
   "source": [
    "Similar to the reference model, we observe that there is a gradual decrease in loss score and gradual increase in accuracy as the number of epochs increases. In comparing sequence lengths, the longer sequence length (100 words) displayed a loss score of 0.3924 and accuracy of 0.9198 while the reference model with a sequence length of 50 words displayed a loss of 2.4078 and accuracy of 0.4073."
   ]
  },
  {
   "cell_type": "markdown",
   "id": "c65ba811",
   "metadata": {},
   "source": [
    "#### Model Summary"
   ]
  },
  {
   "cell_type": "code",
   "execution_count": 20,
   "id": "c60501d9",
   "metadata": {},
   "outputs": [
    {
     "name": "stdout",
     "output_type": "stream",
     "text": [
      "Model: \"sequential\"\n",
      "_________________________________________________________________\n",
      "Layer (type)                 Output Shape              Param #   \n",
      "=================================================================\n",
      "embedding (Embedding)        (None, 100, 100)          253400    \n",
      "_________________________________________________________________\n",
      "lstm (LSTM)                  (None, 100, 100)          80400     \n",
      "_________________________________________________________________\n",
      "lstm_1 (LSTM)                (None, 100)               80400     \n",
      "_________________________________________________________________\n",
      "dense (Dense)                (None, 100)               10100     \n",
      "_________________________________________________________________\n",
      "dense_1 (Dense)              (None, 2534)              255934    \n",
      "=================================================================\n",
      "Total params: 680,234\n",
      "Trainable params: 680,234\n",
      "Non-trainable params: 0\n",
      "_________________________________________________________________\n"
     ]
    }
   ],
   "source": [
    "# print model summary\n",
    "model.summary()"
   ]
  },
  {
   "cell_type": "markdown",
   "id": "097d20eb",
   "metadata": {},
   "source": [
    "#### Save Model"
   ]
  },
  {
   "cell_type": "code",
   "execution_count": 22,
   "id": "5d0d7776",
   "metadata": {},
   "outputs": [],
   "source": [
    "# save model to file\n",
    "model.save('model_ref_ls.h5')"
   ]
  },
  {
   "cell_type": "code",
   "execution_count": null,
   "id": "806dead4",
   "metadata": {},
   "outputs": [],
   "source": []
  }
 ],
 "metadata": {
  "kernelspec": {
   "display_name": "Python 3",
   "language": "python",
   "name": "python3"
  },
  "language_info": {
   "codemirror_mode": {
    "name": "ipython",
    "version": 3
   },
   "file_extension": ".py",
   "mimetype": "text/x-python",
   "name": "python",
   "nbconvert_exporter": "python",
   "pygments_lexer": "ipython3",
   "version": "3.8.8"
  }
 },
 "nbformat": 4,
 "nbformat_minor": 5
}
