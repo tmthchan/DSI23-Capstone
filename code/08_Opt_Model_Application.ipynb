{
 "cells": [
  {
   "cell_type": "markdown",
   "id": "71ed9e0b",
   "metadata": {},
   "source": [
    "## 8. Optimized Model Application"
   ]
  },
  {
   "cell_type": "code",
   "execution_count": 1,
   "id": "ae2700b9",
   "metadata": {},
   "outputs": [],
   "source": [
    "# import libraries\n",
    "import numpy as np\n",
    "import random\n",
    "from random import randint\n",
    "from pickle import load\n",
    "from tensorflow.keras.models import load_model\n",
    "from tensorflow.keras.preprocessing.sequence import pad_sequences\n",
    "from nltk.translate.bleu_score import sentence_bleu, corpus_bleu, SmoothingFunction\n",
    "from rouge import Rouge\n",
    "\n",
    "# set random seed \n",
    "random.seed(1234)"
   ]
  },
  {
   "cell_type": "markdown",
   "id": "64a53c12",
   "metadata": {},
   "source": [
    "### 8.1 Load Text Document"
   ]
  },
  {
   "cell_type": "code",
   "execution_count": 2,
   "id": "ff47a0c7",
   "metadata": {},
   "outputs": [],
   "source": [
    "# load doc into memory\n",
    "def load_doc(filename):\n",
    "    # open the file as read only\n",
    "    file = open(filename,'r')\n",
    "    # read all text\n",
    "    text = file.read()\n",
    "    # close the file\n",
    "    file.close()\n",
    "    return text"
   ]
  },
  {
   "cell_type": "markdown",
   "id": "361e1713",
   "metadata": {},
   "source": [
    "#### Load Frank Kafka - Metamorphosis Text"
   ]
  },
  {
   "cell_type": "code",
   "execution_count": 3,
   "id": "81c323d5",
   "metadata": {},
   "outputs": [],
   "source": [
    "# load cleaned text sequences from metamorphosis\n",
    "in_filename = '../data/Text_Sequences_50_meta.txt'\n",
    "doc = load_doc(in_filename)\n",
    "meta_lines = doc.split('\\n')"
   ]
  },
  {
   "cell_type": "markdown",
   "id": "e2be624b",
   "metadata": {},
   "source": [
    "#### Load Frank Kafka - The Castle Text"
   ]
  },
  {
   "cell_type": "code",
   "execution_count": 4,
   "id": "8c029517",
   "metadata": {},
   "outputs": [],
   "source": [
    "# load cleaned text sequences from the castle\n",
    "in_filename = '../data/Text_Sequences_50_castle.txt'\n",
    "doc = load_doc(in_filename)\n",
    "castle_lines = doc.split('\\n')"
   ]
  },
  {
   "cell_type": "markdown",
   "id": "3dc7c423",
   "metadata": {},
   "source": [
    "#### Load Haruki Murakami - Kafka on the Shore Text"
   ]
  },
  {
   "cell_type": "code",
   "execution_count": 5,
   "id": "a48b545f",
   "metadata": {},
   "outputs": [],
   "source": [
    "# load cleaned text sequences from kafka on the shore\n",
    "in_filename = '../data/Text_Sequences_50_kots.txt'\n",
    "doc = load_doc(in_filename)\n",
    "kots_lines = doc.split('\\n')"
   ]
  },
  {
   "cell_type": "markdown",
   "id": "d182937b",
   "metadata": {},
   "source": [
    "#### Sequence Length"
   ]
  },
  {
   "cell_type": "code",
   "execution_count": 6,
   "id": "475a2689",
   "metadata": {},
   "outputs": [
    {
     "data": {
      "text/plain": [
       "51"
      ]
     },
     "execution_count": 6,
     "metadata": {},
     "output_type": "execute_result"
    }
   ],
   "source": [
    "# number of words in each line\n",
    "len(meta_lines[0].split())"
   ]
  },
  {
   "cell_type": "code",
   "execution_count": 7,
   "id": "59d3786e",
   "metadata": {},
   "outputs": [
    {
     "data": {
      "text/plain": [
       "50"
      ]
     },
     "execution_count": 7,
     "metadata": {},
     "output_type": "execute_result"
    }
   ],
   "source": [
    "# seq_length will be the number of words minus the expected output word\n",
    "seq_length = len(meta_lines[0].split()) - 1\n",
    "seq_length"
   ]
  },
  {
   "cell_type": "markdown",
   "id": "1eb3680a",
   "metadata": {},
   "source": [
    "### 8.2 Load Model"
   ]
  },
  {
   "cell_type": "code",
   "execution_count": 8,
   "id": "06bfa23d",
   "metadata": {},
   "outputs": [],
   "source": [
    "# load reference model\n",
    "model = load_model('model_opt.h5')"
   ]
  },
  {
   "cell_type": "code",
   "execution_count": 9,
   "id": "67d7c0ba",
   "metadata": {},
   "outputs": [],
   "source": [
    "# load tokenizer\n",
    "tokenizer = load(open('tokenizer.pkl', 'rb'))"
   ]
  },
  {
   "cell_type": "markdown",
   "id": "062c6813",
   "metadata": {},
   "source": [
    "### 8.3 Generate Text"
   ]
  },
  {
   "cell_type": "markdown",
   "id": "025b6041",
   "metadata": {},
   "source": [
    "#### Define sequence generating function"
   ]
  },
  {
   "cell_type": "code",
   "execution_count": 10,
   "id": "1d3a14ff",
   "metadata": {},
   "outputs": [],
   "source": [
    "# generate a sequence from the language model\n",
    "def generate_seq(model, tokenizer, seq_length, seed_text, n_words):\n",
    "    result = list()\n",
    "    in_text = seed_text\n",
    "    # generate a fixed number of words\n",
    "    for _ in range(n_words):\n",
    "        # encode seed text to integers using tokenizer\n",
    "        # index 0 must be specified to extract list of intergers from array\n",
    "        encoded = tokenizer.texts_to_sequences([in_text])[0]\n",
    "        # truncate sequences into a fixed length\n",
    "        encoded = pad_sequences([encoded], maxlen=seq_length, truncating='pre')\n",
    "        # predict probabilities for each word\n",
    "        # replaced yhat = model.predict_classes(encoded,verbose=0)\n",
    "        yhat = np.argmax(model.predict(encoded), axis=-1)\n",
    "        # map predicted word index to word\n",
    "        out_word = ''\n",
    "        for word, index in tokenizer.word_index.items():\n",
    "            if index == yhat:\n",
    "                out_word = word\n",
    "                break\n",
    "        # append to input\n",
    "        in_text += ' ' + out_word\n",
    "        result.append(out_word)\n",
    "    return ' '.join(result)"
   ]
  },
  {
   "cell_type": "markdown",
   "id": "09eb9dab",
   "metadata": {},
   "source": [
    "#### Metamorphosis - Seed Text"
   ]
  },
  {
   "cell_type": "code",
   "execution_count": 11,
   "id": "a7250a60",
   "metadata": {},
   "outputs": [
    {
     "name": "stdout",
     "output_type": "stream",
     "text": [
      "Seed text taken from index: 14441\n",
      "\n",
      "sister would urge each other to be quiet his mother bent deeply under the lamp would sew fancy underwear for a fashion shop his sister who had taken a sales job learned shorthand and french in the evenings so that she might be able to get a better position later on\n",
      "\n"
     ]
    }
   ],
   "source": [
    "# select seed text from Metamorphosis\n",
    "meta_index = randint(0, len(meta_lines)-120)\n",
    "meta_seed_text = meta_lines[meta_index]\n",
    "print(\"Seed text taken from index: \" + str(meta_index) + '\\n')\n",
    "print(meta_seed_text + '\\n')"
   ]
  },
  {
   "cell_type": "markdown",
   "id": "4b56eee2",
   "metadata": {},
   "source": [
    "#### Metamorphosis - Reference Text"
   ]
  },
  {
   "cell_type": "code",
   "execution_count": 12,
   "id": "c07cf09f",
   "metadata": {},
   "outputs": [
    {
     "name": "stdout",
     "output_type": "stream",
     "text": [
      "sometimes his father would wake up and say to mother doing so much sewing again as if he did not know that he had been then he would go back to sleep again while mother and sister would exchange a tired grin with a kind of stubbornness father refused to take\n"
     ]
    }
   ],
   "source": [
    "meta_ref = meta_lines[meta_index+51]\n",
    "print(meta_ref)"
   ]
  },
  {
   "cell_type": "markdown",
   "id": "17b01814",
   "metadata": {},
   "source": [
    "####  Metamorphosis - Predicted Text"
   ]
  },
  {
   "cell_type": "code",
   "execution_count": 13,
   "id": "958be815",
   "metadata": {},
   "outputs": [
    {
     "name": "stdout",
     "output_type": "stream",
     "text": [
      "sometimes his father would wake up and say but nothing unusual was happening it was distress at the table the office yes will you report but without travelling by a straight line longer he was curious to learn what they had done before was indeed heard it all himself but\n"
     ]
    }
   ],
   "source": [
    "# input length of output sequence; n_words = 50 \n",
    "# seq_length = 50 as assigned when loading the text document\n",
    "meta_pred = generate_seq(model, tokenizer, seq_length, meta_seed_text, 50)\n",
    "print(meta_pred)"
   ]
  },
  {
   "cell_type": "code",
   "execution_count": 14,
   "id": "27a8b7da",
   "metadata": {},
   "outputs": [
    {
     "name": "stdout",
     "output_type": "stream",
     "text": [
      "sometimes his father would wake up and say but nothing unusual was happening it was distress at the table the office yes will you report but without travelling by a straight line longer he was curious to learn what they had done before was indeed heard it all himself but swayed from side to side is gregor kissed him and hugged him and then he was not hungry sister no longer thought about crawling to him pointing without wasting any more words with his forefinger at gregor as he fell annoyed and at last night already or cheer to offer him he was afraid that if he was still occupied with these meal and occasionally looked down away with mechanical hand movements you need to get up my train leaves at while he was not able to prevent the floor he was weak from it in alarm because of the door and he had saved from his piercing feeling his room every other day would be trusted to have the wisdom to investigate it without further difficulty in his body out of them as if he did not really distinguish one from the door banging shut again eating herself and\n"
     ]
    }
   ],
   "source": [
    "# input length of output sequence; n_words = 50 \n",
    "# seq_length = 50 as assigned when loading the text document\n",
    "meta_pred_200 = generate_seq(model, tokenizer, seq_length, meta_seed_text, 200)\n",
    "print(meta_pred_200)"
   ]
  },
  {
   "cell_type": "markdown",
   "id": "a1b44993",
   "metadata": {},
   "source": [
    "#### The Castle - Seed Text"
   ]
  },
  {
   "cell_type": "code",
   "execution_count": 15,
   "id": "8a5b0835",
   "metadata": {},
   "outputs": [
    {
     "name": "stdout",
     "output_type": "stream",
     "text": [
      "Seed text taken from index: 119\n",
      "\n",
      "not want to talk to anyone got himself a straw mattress from the attic and lay down by the stove it was warm the peasants were quiet he examined them for a moment with tired eyes then fell asleep yet before long he was awakened a young man in city clothes\n",
      "\n"
     ]
    }
   ],
   "source": [
    "# select seed text from The Castle\n",
    "castle_index = randint(0, len(castle_lines)-120)\n",
    "castle_seed_text = castle_lines[castle_index]\n",
    "print(\"Seed text taken from index: \" + str(castle_index) + '\\n')\n",
    "print(castle_seed_text + '\\n')"
   ]
  },
  {
   "cell_type": "markdown",
   "id": "96564e2a",
   "metadata": {},
   "source": [
    "#### The Castle - Reference Text"
   ]
  },
  {
   "cell_type": "code",
   "execution_count": 16,
   "id": "6f1eb85a",
   "metadata": {},
   "outputs": [
    {
     "name": "stdout",
     "output_type": "stream",
     "text": [
      "with an actors face narrow eyes thick eyebrows stood beside him with the landlord the peasants too were still there a few had turned their chairs around to see and hear better the young man apologized very politely for having awakened k introduced himself as the son of the castle steward\n"
     ]
    }
   ],
   "source": [
    "castle_ref = castle_lines[castle_index+51]\n",
    "print(castle_ref)"
   ]
  },
  {
   "cell_type": "markdown",
   "id": "e62d7d7f",
   "metadata": {},
   "source": [
    "#### The Castle - Predicted Text"
   ]
  },
  {
   "cell_type": "code",
   "execution_count": 17,
   "id": "5c6d6231",
   "metadata": {},
   "outputs": [
    {
     "name": "stdout",
     "output_type": "stream",
     "text": [
      "if he spend at least a couple of either gregor able to see gregor better and then come around back to the door doors covered at first morning he had to do with his daughter as the first day had been ill by gregor one or learn what she had\n"
     ]
    }
   ],
   "source": [
    "# input length of output sequence; n_words = 50 \n",
    "# seq_length = 50 as assigned when loading the text document\n",
    "castle_pred = generate_seq(model, tokenizer, seq_length, castle_seed_text, 50)\n",
    "print(castle_pred)"
   ]
  },
  {
   "cell_type": "markdown",
   "id": "97a3de4f",
   "metadata": {},
   "source": [
    "#### Kafka on the Shore - Seed Text"
   ]
  },
  {
   "cell_type": "code",
   "execution_count": 18,
   "id": "08fb3d8d",
   "metadata": {},
   "outputs": [
    {
     "name": "stdout",
     "output_type": "stream",
     "text": [
      "Seed text taken from index: 3\n",
      "\n",
      "i take from my study when i leave home i take a small old gold like the design and feel of a folding knife with a really sharp blade made to skin deer it has a five inch blade and a nice heft probably something he bought on one of his\n",
      "\n"
     ]
    }
   ],
   "source": [
    "# select seed text from Kafka on the Shore\n",
    "kots_index = randint(0, len(kots_lines)-120)\n",
    "kots_seed_text = kots_lines[kots_index]\n",
    "print(\"Seed text taken from index: \" + str(kots_index) + '\\n')\n",
    "print(kots_seed_text + '\\n')"
   ]
  },
  {
   "cell_type": "markdown",
   "id": "c0776597",
   "metadata": {},
   "source": [
    "#### Kafka on the Shore - Reference Text"
   ]
  },
  {
   "cell_type": "code",
   "execution_count": 19,
   "id": "2c5229ac",
   "metadata": {},
   "outputs": [
    {
     "name": "stdout",
     "output_type": "stream",
     "text": [
      "trips abroad i also take a sturdy bright pocket flashlight out of a drawer plus sky blue revo sunglasses to disguise my age i think about taking my favorite sea dweller oyster rolex a beautiful watch but something flashy will only attract attention my cheap plastic casio watch with an alarm\n"
     ]
    }
   ],
   "source": [
    "kots_ref = kots_lines[kots_index+51]\n",
    "print(kots_ref)"
   ]
  },
  {
   "cell_type": "markdown",
   "id": "4268e32d",
   "metadata": {},
   "source": [
    "#### Kafka on the Shore - Predicted Text"
   ]
  },
  {
   "cell_type": "code",
   "execution_count": 20,
   "id": "21a866bf",
   "metadata": {},
   "outputs": [
    {
     "name": "stdout",
     "output_type": "stream",
     "text": [
      "hunger at least gregor had been lit in the door and he had to be risked when gregor came out the door as they had no surprise to him and really had not known that he was glad when he had been working at infant would show patience and the\n"
     ]
    }
   ],
   "source": [
    "# input length of output sequence; n_words = 50 \n",
    "# seq_length = 50 as assigned when loading the text document\n",
    "kots_pred = generate_seq(model, tokenizer, seq_length, kots_seed_text, 50)\n",
    "print(kots_pred)"
   ]
  },
  {
   "cell_type": "markdown",
   "id": "2b2ae75d",
   "metadata": {},
   "source": [
    "### 8.3 Evaluate Model"
   ]
  },
  {
   "cell_type": "markdown",
   "id": "c3f20452",
   "metadata": {},
   "source": [
    "#### BLEU Score"
   ]
  },
  {
   "cell_type": "code",
   "execution_count": 21,
   "id": "b6afd8ce",
   "metadata": {},
   "outputs": [],
   "source": [
    "cc = SmoothingFunction()\n",
    "def bleu(ref, gen):\n",
    "    ref = [ref.split(\" \")]\n",
    "    gen = gen.split(\" \")\n",
    "        \n",
    "    print('Cumulative 1-gram: %f' % sentence_bleu(ref, gen, weights=(1, 0, 0, 0), smoothing_function=cc.method1))\n",
    "    print('Cumulative 2-gram: %f' % sentence_bleu(ref, gen, weights=(0.5, 0.5, 0, 0), smoothing_function=cc.method1))\n",
    "    print('Cumulative 3-gram: %f' % sentence_bleu(ref, gen, weights=(0.33, 0.33, 0.33, 0), smoothing_function=cc.method1))\n",
    "    print('Cumulative 4-gram: %f' % sentence_bleu(ref, gen, weights=(0.25, 0.25, 0.25, 0.25), smoothing_function=cc.method1))"
   ]
  },
  {
   "cell_type": "code",
   "execution_count": 22,
   "id": "297f741e",
   "metadata": {},
   "outputs": [
    {
     "name": "stdout",
     "output_type": "stream",
     "text": [
      "BLEU Score for Metamorphosis\n",
      "\n",
      "Cumulative 1-gram: 0.235248\n",
      "Cumulative 2-gram: 0.181498\n",
      "Cumulative 3-gram: 0.162137\n",
      "Cumulative 4-gram: 0.143231\n"
     ]
    }
   ],
   "source": [
    "print(\"BLEU Score for Metamorphosis\" + \"\\n\")\n",
    "bleu(meta_ref, meta_pred)"
   ]
  },
  {
   "cell_type": "code",
   "execution_count": 23,
   "id": "12f10340",
   "metadata": {},
   "outputs": [
    {
     "name": "stdout",
     "output_type": "stream",
     "text": [
      "BLEU Score for The Castle\n",
      "\n",
      "Cumulative 1-gram: 0.235248\n",
      "Cumulative 2-gram: 0.097015\n",
      "Cumulative 3-gram: 0.027768\n",
      "Cumulative 4-gram: 0.014149\n"
     ]
    }
   ],
   "source": [
    "print(\"BLEU Score for The Castle\" + \"\\n\")\n",
    "bleu(castle_ref, castle_pred)"
   ]
  },
  {
   "cell_type": "code",
   "execution_count": 24,
   "id": "4ed38cba",
   "metadata": {},
   "outputs": [
    {
     "name": "stdout",
     "output_type": "stream",
     "text": [
      "BLEU Score for Kafka on the Shore\n",
      "\n",
      "Cumulative 1-gram: 0.039208\n",
      "Cumulative 2-gram: 0.008856\n",
      "Cumulative 3-gram: 0.005720\n",
      "Cumulative 4-gram: 0.004275\n"
     ]
    }
   ],
   "source": [
    "print(\"BLEU Score for Kafka on the Shore\" + \"\\n\")\n",
    "bleu(kots_ref, kots_pred)"
   ]
  },
  {
   "cell_type": "markdown",
   "id": "d1041f73",
   "metadata": {},
   "source": [
    "#### ROUGE Score"
   ]
  },
  {
   "cell_type": "code",
   "execution_count": 25,
   "id": "629f0148",
   "metadata": {},
   "outputs": [],
   "source": [
    "rouge = Rouge()"
   ]
  },
  {
   "cell_type": "code",
   "execution_count": 26,
   "id": "bd948f0f",
   "metadata": {},
   "outputs": [
    {
     "data": {
      "text/plain": [
       "[{'rouge-1': {'r': 0.3, 'p': 0.27906976744186046, 'f': 0.28915662151255633},\n",
       "  'rouge-2': {'r': 0.14, 'p': 0.14285714285714285, 'f': 0.14141413641465175},\n",
       "  'rouge-l': {'r': 0.25, 'p': 0.23255813953488372, 'f': 0.24096385042821902}}]"
      ]
     },
     "execution_count": 26,
     "metadata": {},
     "output_type": "execute_result"
    }
   ],
   "source": [
    "rouge.get_scores(meta_pred, meta_ref)"
   ]
  },
  {
   "cell_type": "code",
   "execution_count": 27,
   "id": "33beed42",
   "metadata": {},
   "outputs": [
    {
     "data": {
      "text/plain": [
       "[{'rouge-1': {'r': 0.2391304347826087, 'p': 0.275, 'f': 0.2558139485127096},\n",
       "  'rouge-2': {'r': 0.04, 'p': 0.04081632653061224, 'f': 0.040404035404551175},\n",
       "  'rouge-l': {'r': 0.13043478260869565, 'p': 0.15, 'f': 0.13953487874526788}}]"
      ]
     },
     "execution_count": 27,
     "metadata": {},
     "output_type": "execute_result"
    }
   ],
   "source": [
    "rouge.get_scores(castle_pred, castle_ref)"
   ]
  },
  {
   "cell_type": "code",
   "execution_count": 28,
   "id": "23011428",
   "metadata": {},
   "outputs": [
    {
     "data": {
      "text/plain": [
       "[{'rouge-1': {'r': 0.044444444444444446,\n",
       "   'p': 0.058823529411764705,\n",
       "   'f': 0.05063290648934514},\n",
       "  'rouge-2': {'r': 0.0, 'p': 0.0, 'f': 0.0},\n",
       "  'rouge-l': {'r': 0.044444444444444446,\n",
       "   'p': 0.058823529411764705,\n",
       "   'f': 0.05063290648934514}}]"
      ]
     },
     "execution_count": 28,
     "metadata": {},
     "output_type": "execute_result"
    }
   ],
   "source": [
    "rouge.get_scores(kots_pred, kots_ref)"
   ]
  },
  {
   "cell_type": "code",
   "execution_count": null,
   "id": "ae391619",
   "metadata": {},
   "outputs": [],
   "source": []
  }
 ],
 "metadata": {
  "kernelspec": {
   "display_name": "Python 3",
   "language": "python",
   "name": "python3"
  },
  "language_info": {
   "codemirror_mode": {
    "name": "ipython",
    "version": 3
   },
   "file_extension": ".py",
   "mimetype": "text/x-python",
   "name": "python",
   "nbconvert_exporter": "python",
   "pygments_lexer": "ipython3",
   "version": "3.8.8"
  }
 },
 "nbformat": 4,
 "nbformat_minor": 5
}
