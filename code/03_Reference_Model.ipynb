{
 "cells": [
  {
   "cell_type": "markdown",
   "id": "5e8df004",
   "metadata": {},
   "source": [
    "## 3. Reference Model"
   ]
  },
  {
   "cell_type": "markdown",
   "id": "4fe77e37",
   "metadata": {},
   "source": [
    "A statistical language model will be trained using the prepared data. It uses a distributed representation for words so that different words with similar meanings have a similar representation. It also learns the probability for the next word using the context of the last 100 words. The embedding layer will be used to learn the representation of words and Long-Short Term Memory (LSTM) recurrent neural network to learn to predict words based on their context."
   ]
  },
  {
   "cell_type": "code",
   "execution_count": 1,
   "id": "ef9a40cc",
   "metadata": {},
   "outputs": [],
   "source": [
    "# import libraries\n",
    "import numpy as np\n",
    "import tensorflow as tf\n",
    "import matplotlib.pyplot as plt\n",
    "from numpy import array\n",
    "from pickle import dump\n",
    "from tensorflow.keras.preprocessing.text import Tokenizer\n",
    "from tensorflow.keras.utils import plot_model\n",
    "from tensorflow.keras.utils import to_categorical\n",
    "from tensorflow.keras.models import Sequential\n",
    "from tensorflow.keras.layers import Dense\n",
    "from tensorflow.keras.layers import LSTM\n",
    "from tensorflow.keras.layers import Embedding"
   ]
  },
  {
   "cell_type": "code",
   "execution_count": 2,
   "id": "86dbe996",
   "metadata": {},
   "outputs": [],
   "source": [
    "# set random seed for numpy and tensorflow\n",
    "np.random.seed(1234)\n",
    "tf.random.set_seed(1234)"
   ]
  },
  {
   "cell_type": "markdown",
   "id": "f0d4dfcc",
   "metadata": {},
   "source": [
    "### 3.1 Load Sequences"
   ]
  },
  {
   "cell_type": "code",
   "execution_count": 3,
   "id": "e32fb9bd",
   "metadata": {},
   "outputs": [],
   "source": [
    "# load doc into memory\n",
    "def load_doc(filename):\n",
    "    # open file as read only\n",
    "    file = open(filename, 'r')\n",
    "    # read all text\n",
    "    text = file.read()\n",
    "    # close the file\n",
    "    file.close()\n",
    "    return text\n",
    "\n",
    "# load file \n",
    "in_filename = '../data/Text_Sequences_50_meta.txt'\n",
    "doc = load_doc(in_filename)\n",
    "lines = doc.split('\\n')"
   ]
  },
  {
   "cell_type": "code",
   "execution_count": 4,
   "id": "0fda668a",
   "metadata": {},
   "outputs": [
    {
     "data": {
      "text/plain": [
       "['one morning when gregor samsa woke from troubled dreams he found himself transformed in his bed into a horrible vermin he lay on his armour like back and if he lifted his head a little he could see his brown belly slightly domed and divided by arches into stiff sections the',\n",
       " 'morning when gregor samsa woke from troubled dreams he found himself transformed in his bed into a horrible vermin he lay on his armour like back and if he lifted his head a little he could see his brown belly slightly domed and divided by arches into stiff sections the bedding',\n",
       " 'when gregor samsa woke from troubled dreams he found himself transformed in his bed into a horrible vermin he lay on his armour like back and if he lifted his head a little he could see his brown belly slightly domed and divided by arches into stiff sections the bedding was',\n",
       " 'gregor samsa woke from troubled dreams he found himself transformed in his bed into a horrible vermin he lay on his armour like back and if he lifted his head a little he could see his brown belly slightly domed and divided by arches into stiff sections the bedding was hardly',\n",
       " 'samsa woke from troubled dreams he found himself transformed in his bed into a horrible vermin he lay on his armour like back and if he lifted his head a little he could see his brown belly slightly domed and divided by arches into stiff sections the bedding was hardly able',\n",
       " 'woke from troubled dreams he found himself transformed in his bed into a horrible vermin he lay on his armour like back and if he lifted his head a little he could see his brown belly slightly domed and divided by arches into stiff sections the bedding was hardly able to',\n",
       " 'from troubled dreams he found himself transformed in his bed into a horrible vermin he lay on his armour like back and if he lifted his head a little he could see his brown belly slightly domed and divided by arches into stiff sections the bedding was hardly able to cover',\n",
       " 'troubled dreams he found himself transformed in his bed into a horrible vermin he lay on his armour like back and if he lifted his head a little he could see his brown belly slightly domed and divided by arches into stiff sections the bedding was hardly able to cover it',\n",
       " 'dreams he found himself transformed in his bed into a horrible vermin he lay on his armour like back and if he lifted his head a little he could see his brown belly slightly domed and divided by arches into stiff sections the bedding was hardly able to cover it and',\n",
       " 'he found himself transformed in his bed into a horrible vermin he lay on his armour like back and if he lifted his head a little he could see his brown belly slightly domed and divided by arches into stiff sections the bedding was hardly able to cover it and seemed',\n",
       " 'found himself transformed in his bed into a horrible vermin he lay on his armour like back and if he lifted his head a little he could see his brown belly slightly domed and divided by arches into stiff sections the bedding was hardly able to cover it and seemed ready',\n",
       " 'himself transformed in his bed into a horrible vermin he lay on his armour like back and if he lifted his head a little he could see his brown belly slightly domed and divided by arches into stiff sections the bedding was hardly able to cover it and seemed ready to',\n",
       " 'transformed in his bed into a horrible vermin he lay on his armour like back and if he lifted his head a little he could see his brown belly slightly domed and divided by arches into stiff sections the bedding was hardly able to cover it and seemed ready to slide',\n",
       " 'in his bed into a horrible vermin he lay on his armour like back and if he lifted his head a little he could see his brown belly slightly domed and divided by arches into stiff sections the bedding was hardly able to cover it and seemed ready to slide off',\n",
       " 'his bed into a horrible vermin he lay on his armour like back and if he lifted his head a little he could see his brown belly slightly domed and divided by arches into stiff sections the bedding was hardly able to cover it and seemed ready to slide off any',\n",
       " 'bed into a horrible vermin he lay on his armour like back and if he lifted his head a little he could see his brown belly slightly domed and divided by arches into stiff sections the bedding was hardly able to cover it and seemed ready to slide off any moment',\n",
       " 'into a horrible vermin he lay on his armour like back and if he lifted his head a little he could see his brown belly slightly domed and divided by arches into stiff sections the bedding was hardly able to cover it and seemed ready to slide off any moment his',\n",
       " 'a horrible vermin he lay on his armour like back and if he lifted his head a little he could see his brown belly slightly domed and divided by arches into stiff sections the bedding was hardly able to cover it and seemed ready to slide off any moment his many',\n",
       " 'horrible vermin he lay on his armour like back and if he lifted his head a little he could see his brown belly slightly domed and divided by arches into stiff sections the bedding was hardly able to cover it and seemed ready to slide off any moment his many legs',\n",
       " 'vermin he lay on his armour like back and if he lifted his head a little he could see his brown belly slightly domed and divided by arches into stiff sections the bedding was hardly able to cover it and seemed ready to slide off any moment his many legs pitifully',\n",
       " 'he lay on his armour like back and if he lifted his head a little he could see his brown belly slightly domed and divided by arches into stiff sections the bedding was hardly able to cover it and seemed ready to slide off any moment his many legs pitifully thin',\n",
       " 'lay on his armour like back and if he lifted his head a little he could see his brown belly slightly domed and divided by arches into stiff sections the bedding was hardly able to cover it and seemed ready to slide off any moment his many legs pitifully thin compared',\n",
       " 'on his armour like back and if he lifted his head a little he could see his brown belly slightly domed and divided by arches into stiff sections the bedding was hardly able to cover it and seemed ready to slide off any moment his many legs pitifully thin compared with',\n",
       " 'his armour like back and if he lifted his head a little he could see his brown belly slightly domed and divided by arches into stiff sections the bedding was hardly able to cover it and seemed ready to slide off any moment his many legs pitifully thin compared with the',\n",
       " 'armour like back and if he lifted his head a little he could see his brown belly slightly domed and divided by arches into stiff sections the bedding was hardly able to cover it and seemed ready to slide off any moment his many legs pitifully thin compared with the size',\n",
       " 'like back and if he lifted his head a little he could see his brown belly slightly domed and divided by arches into stiff sections the bedding was hardly able to cover it and seemed ready to slide off any moment his many legs pitifully thin compared with the size of',\n",
       " 'back and if he lifted his head a little he could see his brown belly slightly domed and divided by arches into stiff sections the bedding was hardly able to cover it and seemed ready to slide off any moment his many legs pitifully thin compared with the size of the',\n",
       " 'and if he lifted his head a little he could see his brown belly slightly domed and divided by arches into stiff sections the bedding was hardly able to cover it and seemed ready to slide off any moment his many legs pitifully thin compared with the size of the rest',\n",
       " 'if he lifted his head a little he could see his brown belly slightly domed and divided by arches into stiff sections the bedding was hardly able to cover it and seemed ready to slide off any moment his many legs pitifully thin compared with the size of the rest of',\n",
       " 'he lifted his head a little he could see his brown belly slightly domed and divided by arches into stiff sections the bedding was hardly able to cover it and seemed ready to slide off any moment his many legs pitifully thin compared with the size of the rest of him',\n",
       " 'lifted his head a little he could see his brown belly slightly domed and divided by arches into stiff sections the bedding was hardly able to cover it and seemed ready to slide off any moment his many legs pitifully thin compared with the size of the rest of him waved',\n",
       " 'his head a little he could see his brown belly slightly domed and divided by arches into stiff sections the bedding was hardly able to cover it and seemed ready to slide off any moment his many legs pitifully thin compared with the size of the rest of him waved about',\n",
       " 'head a little he could see his brown belly slightly domed and divided by arches into stiff sections the bedding was hardly able to cover it and seemed ready to slide off any moment his many legs pitifully thin compared with the size of the rest of him waved about helplessly',\n",
       " 'a little he could see his brown belly slightly domed and divided by arches into stiff sections the bedding was hardly able to cover it and seemed ready to slide off any moment his many legs pitifully thin compared with the size of the rest of him waved about helplessly as',\n",
       " 'little he could see his brown belly slightly domed and divided by arches into stiff sections the bedding was hardly able to cover it and seemed ready to slide off any moment his many legs pitifully thin compared with the size of the rest of him waved about helplessly as he',\n",
       " 'he could see his brown belly slightly domed and divided by arches into stiff sections the bedding was hardly able to cover it and seemed ready to slide off any moment his many legs pitifully thin compared with the size of the rest of him waved about helplessly as he looked',\n",
       " 'could see his brown belly slightly domed and divided by arches into stiff sections the bedding was hardly able to cover it and seemed ready to slide off any moment his many legs pitifully thin compared with the size of the rest of him waved about helplessly as he looked happened',\n",
       " 'see his brown belly slightly domed and divided by arches into stiff sections the bedding was hardly able to cover it and seemed ready to slide off any moment his many legs pitifully thin compared with the size of the rest of him waved about helplessly as he looked happened to',\n",
       " 'his brown belly slightly domed and divided by arches into stiff sections the bedding was hardly able to cover it and seemed ready to slide off any moment his many legs pitifully thin compared with the size of the rest of him waved about helplessly as he looked happened to he',\n",
       " 'brown belly slightly domed and divided by arches into stiff sections the bedding was hardly able to cover it and seemed ready to slide off any moment his many legs pitifully thin compared with the size of the rest of him waved about helplessly as he looked happened to he thought',\n",
       " 'belly slightly domed and divided by arches into stiff sections the bedding was hardly able to cover it and seemed ready to slide off any moment his many legs pitifully thin compared with the size of the rest of him waved about helplessly as he looked happened to he thought it',\n",
       " 'slightly domed and divided by arches into stiff sections the bedding was hardly able to cover it and seemed ready to slide off any moment his many legs pitifully thin compared with the size of the rest of him waved about helplessly as he looked happened to he thought it a',\n",
       " 'domed and divided by arches into stiff sections the bedding was hardly able to cover it and seemed ready to slide off any moment his many legs pitifully thin compared with the size of the rest of him waved about helplessly as he looked happened to he thought it a dream',\n",
       " 'and divided by arches into stiff sections the bedding was hardly able to cover it and seemed ready to slide off any moment his many legs pitifully thin compared with the size of the rest of him waved about helplessly as he looked happened to he thought it a dream his',\n",
       " 'divided by arches into stiff sections the bedding was hardly able to cover it and seemed ready to slide off any moment his many legs pitifully thin compared with the size of the rest of him waved about helplessly as he looked happened to he thought it a dream his room',\n",
       " 'by arches into stiff sections the bedding was hardly able to cover it and seemed ready to slide off any moment his many legs pitifully thin compared with the size of the rest of him waved about helplessly as he looked happened to he thought it a dream his room a',\n",
       " 'arches into stiff sections the bedding was hardly able to cover it and seemed ready to slide off any moment his many legs pitifully thin compared with the size of the rest of him waved about helplessly as he looked happened to he thought it a dream his room a proper',\n",
       " 'into stiff sections the bedding was hardly able to cover it and seemed ready to slide off any moment his many legs pitifully thin compared with the size of the rest of him waved about helplessly as he looked happened to he thought it a dream his room a proper human',\n",
       " 'stiff sections the bedding was hardly able to cover it and seemed ready to slide off any moment his many legs pitifully thin compared with the size of the rest of him waved about helplessly as he looked happened to he thought it a dream his room a proper human room',\n",
       " 'sections the bedding was hardly able to cover it and seemed ready to slide off any moment his many legs pitifully thin compared with the size of the rest of him waved about helplessly as he looked happened to he thought it a dream his room a proper human room although']"
      ]
     },
     "execution_count": 4,
     "metadata": {},
     "output_type": "execute_result"
    }
   ],
   "source": [
    "# print first 50 lines\n",
    "lines[:50]"
   ]
  },
  {
   "cell_type": "markdown",
   "id": "e05a6dee",
   "metadata": {},
   "source": [
    "### 3.2 Encode Sequences"
   ]
  },
  {
   "cell_type": "markdown",
   "id": "2627e06c",
   "metadata": {},
   "source": [
    "#### Encode Sequences of Words into Integers"
   ]
  },
  {
   "cell_type": "code",
   "execution_count": 5,
   "id": "ab565ac3",
   "metadata": {},
   "outputs": [],
   "source": [
    "# instantiate Tokenizer\n",
    "tokenizer = Tokenizer()\n",
    "# updates internal vocabulary with each unique word in each line in lines\n",
    "tokenizer.fit_on_texts(lines)  \n",
    "# transform each text in lines to a sequence of integers\n",
    "sequences = tokenizer.texts_to_sequences(lines)  "
   ]
  },
  {
   "cell_type": "code",
   "execution_count": 6,
   "id": "3bbc1038",
   "metadata": {},
   "outputs": [
    {
     "name": "stdout",
     "output_type": "stream",
     "text": [
      "[49, 155, 54, 16, 109, 1257, 28, 2533, 2527, 4, 242, 41, 2531, 9, 5, 122, 46, 12, 886, 2530, 4, 165, 25, 5, 2529, 85, 42, 3, 34, 4, 485, 5, 84, 12, 66, 4, 29, 83, 5, 688, 885, 370, 2526, 3, 2524, 63, 2523, 46, 884, 2522, 1]\n"
     ]
    }
   ],
   "source": [
    "# view the sequence of integers in the first list in sequences\n",
    "print(sequences[0])"
   ]
  },
  {
   "cell_type": "code",
   "execution_count": 7,
   "id": "81978781",
   "metadata": {},
   "outputs": [
    {
     "data": {
      "text/plain": [
       "51"
      ]
     },
     "execution_count": 7,
     "metadata": {},
     "output_type": "execute_result"
    }
   ],
   "source": [
    "# display length of each sequence\n",
    "len(sequences[0])"
   ]
  },
  {
   "cell_type": "code",
   "execution_count": 8,
   "id": "73dfedc5",
   "metadata": {},
   "outputs": [
    {
     "data": {
      "text/plain": [
       "21296"
      ]
     },
     "execution_count": 8,
     "metadata": {},
     "output_type": "execute_result"
    }
   ],
   "source": [
    "# display total number of sequences\n",
    "len(sequences)"
   ]
  },
  {
   "cell_type": "code",
   "execution_count": 9,
   "id": "2eb2b651",
   "metadata": {},
   "outputs": [
    {
     "name": "stdout",
     "output_type": "stream",
     "text": [
      "Vocabulary size is 2534.\n"
     ]
    }
   ],
   "source": [
    "# vocabulary size\n",
    "vocab_size = len(tokenizer.word_index) + 1\n",
    "\n",
    "print('Vocabulary size is '+ str(vocab_size) + '.')"
   ]
  },
  {
   "cell_type": "markdown",
   "id": "aa305352",
   "metadata": {},
   "source": [
    "The vocabulary size is necessary for defining the embedding layer. The vocabulary size is determined by calculating the size of the mapping dictionary using word_index. As the indexing of arrays is zero-offset, the array must be 2533 + 1 in length. "
   ]
  },
  {
   "cell_type": "markdown",
   "id": "6f9ad1c7",
   "metadata": {},
   "source": [
    "### 3.3 Sequence Inputs & Output"
   ]
  },
  {
   "cell_type": "markdown",
   "id": "a6e02e77",
   "metadata": {},
   "source": [
    "#### Assign X and y variables"
   ]
  },
  {
   "cell_type": "code",
   "execution_count": 10,
   "id": "cbb65430",
   "metadata": {},
   "outputs": [],
   "source": [
    "# separate into input and output\n",
    "\n",
    "# convert list of lines in sequences to an array\n",
    "sequences = array(sequences)\n",
    "# X will contain the first 50 words (elements) in each line (dimension)\n",
    "X = sequences[:,:-1]\n",
    "# y will contain the last word (element) in each line (dimension) which will be used to train the predicted word\n",
    "y = sequences[:,-1]"
   ]
  },
  {
   "cell_type": "code",
   "execution_count": 11,
   "id": "3e0eea8c",
   "metadata": {},
   "outputs": [
    {
     "data": {
      "text/plain": [
       "50"
      ]
     },
     "execution_count": 11,
     "metadata": {},
     "output_type": "execute_result"
    }
   ],
   "source": [
    "# seq_length will be the number of words (elements) in each line\n",
    "seq_length = X.shape[1]\n",
    "seq_length"
   ]
  },
  {
   "cell_type": "code",
   "execution_count": 12,
   "id": "265cdf71",
   "metadata": {},
   "outputs": [
    {
     "data": {
      "text/plain": [
       "(21296, 50)"
      ]
     },
     "execution_count": 12,
     "metadata": {},
     "output_type": "execute_result"
    }
   ],
   "source": [
    "# check shape of X\n",
    "X.shape"
   ]
  },
  {
   "cell_type": "code",
   "execution_count": 13,
   "id": "290ff813",
   "metadata": {},
   "outputs": [
    {
     "name": "stdout",
     "output_type": "stream",
     "text": [
      "[[  49  155   54 ...   46  884 2522]\n",
      " [ 155   54   16 ...  884 2522    1]\n",
      " [  54   16  109 ... 2522    1 1258]\n",
      " ...\n",
      " [ 192 1250    3 ...   44    3  887]\n",
      " [1250    3  185 ...    3  887   31]\n",
      " [   3  185   79 ...  887   31   18]]\n"
     ]
    }
   ],
   "source": [
    "# preview X variable\n",
    "print(X)"
   ]
  },
  {
   "cell_type": "markdown",
   "id": "d4910124",
   "metadata": {},
   "source": [
    "X has 21296 dimensions (rows of sequences) and 50 elements (words)."
   ]
  },
  {
   "cell_type": "code",
   "execution_count": 14,
   "id": "06846d93",
   "metadata": {},
   "outputs": [
    {
     "data": {
      "text/plain": [
       "(21296,)"
      ]
     },
     "execution_count": 14,
     "metadata": {},
     "output_type": "execute_result"
    }
   ],
   "source": [
    "# check shape of y\n",
    "y.shape"
   ]
  },
  {
   "cell_type": "code",
   "execution_count": 15,
   "id": "7a4559c4",
   "metadata": {},
   "outputs": [
    {
     "name": "stdout",
     "output_type": "stream",
     "text": [
      "[   1 1258    7 ...   31   18  888]\n",
      "<class 'numpy.ndarray'>\n"
     ]
    }
   ],
   "source": [
    "# view output of y\n",
    "print(y)\n",
    "print(type(y))"
   ]
  },
  {
   "cell_type": "code",
   "execution_count": 16,
   "id": "2085adb6",
   "metadata": {},
   "outputs": [],
   "source": [
    "# converts a class vector (integers) to binary class matrix where number of columns = vocab_size.\n",
    "y = to_categorical(y, num_classes=vocab_size)"
   ]
  },
  {
   "cell_type": "code",
   "execution_count": 17,
   "id": "c76c6ad3",
   "metadata": {},
   "outputs": [
    {
     "data": {
      "text/plain": [
       "(21296, 2534)"
      ]
     },
     "execution_count": 17,
     "metadata": {},
     "output_type": "execute_result"
    }
   ],
   "source": [
    "# check shape of y after converting to binary class matrix\n",
    "y.shape"
   ]
  },
  {
   "cell_type": "markdown",
   "id": "c8551ec0",
   "metadata": {},
   "source": [
    "From the shape of y, the array consists of 21296 rows (sequences) and 2534 features (vocabulary size)."
   ]
  },
  {
   "cell_type": "code",
   "execution_count": 18,
   "id": "4d3ab13f",
   "metadata": {},
   "outputs": [
    {
     "name": "stdout",
     "output_type": "stream",
     "text": [
      "[[0. 1. 0. ... 0. 0. 0.]\n",
      " [0. 0. 0. ... 0. 0. 0.]\n",
      " [0. 0. 0. ... 0. 0. 0.]\n",
      " ...\n",
      " [0. 0. 0. ... 0. 0. 0.]\n",
      " [0. 0. 0. ... 0. 0. 0.]\n",
      " [0. 0. 0. ... 0. 0. 0.]]\n",
      "<class 'numpy.ndarray'>\n"
     ]
    }
   ],
   "source": [
    "# preview Y variable\n",
    "print(y)\n",
    "print(type(y))"
   ]
  },
  {
   "cell_type": "markdown",
   "id": "a47d6764",
   "metadata": {},
   "source": [
    "### 3.4 Modelling"
   ]
  },
  {
   "cell_type": "markdown",
   "id": "35b67f70",
   "metadata": {},
   "source": [
    "#### Define & Fit Model"
   ]
  },
  {
   "cell_type": "markdown",
   "id": "8dd2cc3c",
   "metadata": {},
   "source": [
    "- In the embedding layer, \"input_dim\" refers to the vocabulary size (maximum integer index + 1) while \"output_dim\" is the dimension of the dense embedding. \"input_length\" is the length of input sequences, when it is constant.\n",
    "- In the LSTM layer, the unit refers to dimensionality of the output space. It refers to the dimension of hidden state vector a that is the state output from RNN/LSTM cell."
   ]
  },
  {
   "cell_type": "code",
   "execution_count": 19,
   "id": "935f6f4f",
   "metadata": {},
   "outputs": [],
   "source": [
    "# define the model function\n",
    "# input_dim refers to vocab_size and seq_length refers to output_dim and input_length in the embedding layer\n",
    "# vocab_size = 2534 and seq_length = 50\n",
    "\n",
    "def define_model():\n",
    "    model = Sequential()\n",
    "    # input_dim=2534, output_dim=50, input_length=50\n",
    "    model.add(Embedding(2534, 50, input_length=50))\n",
    "    # Set return_sequences=True when stacking LSTM layers so that the second LSTM layer has a three-dimensional sequence input. \n",
    "    model.add(LSTM(100, return_sequences=True))\n",
    "    model.add(LSTM(100))\n",
    "    model.add(Dense(100, activation='relu'))\n",
    "    model.add(Dense(2534, activation='softmax'))\n",
    "    # compile network\n",
    "    model.compile(loss='categorical_crossentropy', optimizer='adam', metrics=['accuracy'])\n",
    "    return model"
   ]
  },
  {
   "cell_type": "code",
   "execution_count": 20,
   "id": "16855e80",
   "metadata": {},
   "outputs": [],
   "source": [
    "# define model\n",
    "model = define_model()              "
   ]
  },
  {
   "cell_type": "code",
   "execution_count": 21,
   "id": "e5d9e545",
   "metadata": {},
   "outputs": [
    {
     "name": "stdout",
     "output_type": "stream",
     "text": [
      "Epoch 1/100\n",
      "167/167 [==============================] - 24s 126ms/step - loss: 6.3453 - accuracy: 0.0504\n",
      "Epoch 2/100\n",
      "167/167 [==============================] - 19s 115ms/step - loss: 5.9873 - accuracy: 0.0537\n",
      "Epoch 3/100\n",
      "167/167 [==============================] - 19s 114ms/step - loss: 5.8740 - accuracy: 0.0547\n",
      "Epoch 4/100\n",
      "167/167 [==============================] - 19s 114ms/step - loss: 5.7394 - accuracy: 0.0595\n",
      "Epoch 5/100\n",
      "167/167 [==============================] - 19s 114ms/step - loss: 5.6136 - accuracy: 0.0692\n",
      "Epoch 6/100\n",
      "167/167 [==============================] - 19s 113ms/step - loss: 5.5229 - accuracy: 0.0773\n",
      "Epoch 7/100\n",
      "167/167 [==============================] - 19s 114ms/step - loss: 5.4374 - accuracy: 0.0799\n",
      "Epoch 8/100\n",
      "167/167 [==============================] - 19s 113ms/step - loss: 5.3560 - accuracy: 0.0891\n",
      "Epoch 9/100\n",
      "167/167 [==============================] - 19s 114ms/step - loss: 5.2731 - accuracy: 0.0934\n",
      "Epoch 10/100\n",
      "167/167 [==============================] - 19s 116ms/step - loss: 5.1982 - accuracy: 0.1021\n",
      "Epoch 11/100\n",
      "167/167 [==============================] - 20s 120ms/step - loss: 5.1338 - accuracy: 0.1046\n",
      "Epoch 12/100\n",
      "167/167 [==============================] - 19s 115ms/step - loss: 5.0764 - accuracy: 0.1103\n",
      "Epoch 13/100\n",
      "167/167 [==============================] - 19s 113ms/step - loss: 5.0177 - accuracy: 0.1136\n",
      "Epoch 14/100\n",
      "167/167 [==============================] - 19s 113ms/step - loss: 4.9622 - accuracy: 0.1176\n",
      "Epoch 15/100\n",
      "167/167 [==============================] - 19s 113ms/step - loss: 4.9064 - accuracy: 0.1229\n",
      "Epoch 16/100\n",
      "167/167 [==============================] - 19s 113ms/step - loss: 4.8482 - accuracy: 0.1297\n",
      "Epoch 17/100\n",
      "167/167 [==============================] - 19s 113ms/step - loss: 4.8307 - accuracy: 0.1310\n",
      "Epoch 18/100\n",
      "167/167 [==============================] - 19s 113ms/step - loss: 4.7567 - accuracy: 0.1347\n",
      "Epoch 19/100\n",
      "167/167 [==============================] - 19s 114ms/step - loss: 4.7227 - accuracy: 0.1359\n",
      "Epoch 20/100\n",
      "167/167 [==============================] - 19s 113ms/step - loss: 4.7032 - accuracy: 0.1379\n",
      "Epoch 21/100\n",
      "167/167 [==============================] - 19s 113ms/step - loss: 4.6238 - accuracy: 0.1431\n",
      "Epoch 22/100\n",
      "167/167 [==============================] - 19s 113ms/step - loss: 4.5708 - accuracy: 0.1439\n",
      "Epoch 23/100\n",
      "167/167 [==============================] - 19s 113ms/step - loss: 4.5176 - accuracy: 0.1470\n",
      "Epoch 24/100\n",
      "167/167 [==============================] - 19s 112ms/step - loss: 4.4706 - accuracy: 0.1505\n",
      "Epoch 25/100\n",
      "167/167 [==============================] - 19s 113ms/step - loss: 4.4329 - accuracy: 0.1509\n",
      "Epoch 26/100\n",
      "167/167 [==============================] - 19s 113ms/step - loss: 4.3912 - accuracy: 0.1505\n",
      "Epoch 27/100\n",
      "167/167 [==============================] - 19s 113ms/step - loss: 4.3433 - accuracy: 0.1544\n",
      "Epoch 28/100\n",
      "167/167 [==============================] - 19s 113ms/step - loss: 4.3085 - accuracy: 0.1560\n",
      "Epoch 29/100\n",
      "167/167 [==============================] - 19s 114ms/step - loss: 4.2705 - accuracy: 0.1584\n",
      "Epoch 30/100\n",
      "167/167 [==============================] - 19s 113ms/step - loss: 4.2281 - accuracy: 0.1586\n",
      "Epoch 31/100\n",
      "167/167 [==============================] - 19s 114ms/step - loss: 4.2099 - accuracy: 0.1606\n",
      "Epoch 32/100\n",
      "167/167 [==============================] - 19s 111ms/step - loss: 4.2150 - accuracy: 0.1610\n",
      "Epoch 33/100\n",
      "167/167 [==============================] - 19s 112ms/step - loss: 4.1732 - accuracy: 0.1641\n",
      "Epoch 34/100\n",
      "167/167 [==============================] - 19s 112ms/step - loss: 4.1262 - accuracy: 0.1667\n",
      "Epoch 35/100\n",
      "167/167 [==============================] - 19s 111ms/step - loss: 4.1025 - accuracy: 0.1664\n",
      "Epoch 36/100\n",
      "167/167 [==============================] - 19s 111ms/step - loss: 4.0964 - accuracy: 0.1669\n",
      "Epoch 37/100\n",
      "167/167 [==============================] - 19s 112ms/step - loss: 4.1380 - accuracy: 0.1675\n",
      "Epoch 38/100\n",
      "167/167 [==============================] - 19s 111ms/step - loss: 4.0633 - accuracy: 0.1707\n",
      "Epoch 39/100\n",
      "167/167 [==============================] - 19s 111ms/step - loss: 4.0029 - accuracy: 0.1755\n",
      "Epoch 40/100\n",
      "167/167 [==============================] - 19s 112ms/step - loss: 3.9515 - accuracy: 0.1791\n",
      "Epoch 41/100\n",
      "167/167 [==============================] - 19s 111ms/step - loss: 3.9055 - accuracy: 0.1812\n",
      "Epoch 42/100\n",
      "167/167 [==============================] - 19s 112ms/step - loss: 3.8683 - accuracy: 0.1879\n",
      "Epoch 43/100\n",
      "167/167 [==============================] - 19s 111ms/step - loss: 3.8313 - accuracy: 0.1918\n",
      "Epoch 44/100\n",
      "167/167 [==============================] - 19s 112ms/step - loss: 3.8081 - accuracy: 0.1942\n",
      "Epoch 45/100\n",
      "167/167 [==============================] - 19s 112ms/step - loss: 3.7992 - accuracy: 0.1964\n",
      "Epoch 46/100\n",
      "167/167 [==============================] - 19s 111ms/step - loss: 3.7647 - accuracy: 0.2002\n",
      "Epoch 47/100\n",
      "167/167 [==============================] - 19s 111ms/step - loss: 3.7297 - accuracy: 0.2048\n",
      "Epoch 48/100\n",
      "167/167 [==============================] - 19s 111ms/step - loss: 3.7001 - accuracy: 0.2063\n",
      "Epoch 49/100\n",
      "167/167 [==============================] - 19s 113ms/step - loss: 3.6668 - accuracy: 0.2117\n",
      "Epoch 50/100\n",
      "167/167 [==============================] - 19s 112ms/step - loss: 3.6282 - accuracy: 0.2166\n",
      "Epoch 51/100\n",
      "167/167 [==============================] - 19s 111ms/step - loss: 3.6041 - accuracy: 0.2164\n",
      "Epoch 52/100\n",
      "167/167 [==============================] - 19s 112ms/step - loss: 3.5735 - accuracy: 0.2232\n",
      "Epoch 53/100\n",
      "167/167 [==============================] - 19s 113ms/step - loss: 3.5380 - accuracy: 0.2289\n",
      "Epoch 54/100\n",
      "167/167 [==============================] - 19s 113ms/step - loss: 3.5092 - accuracy: 0.2315\n",
      "Epoch 55/100\n",
      "167/167 [==============================] - 19s 113ms/step - loss: 3.5068 - accuracy: 0.2333\n",
      "Epoch 56/100\n",
      "167/167 [==============================] - 19s 113ms/step - loss: 3.4991 - accuracy: 0.2335\n",
      "Epoch 57/100\n",
      "167/167 [==============================] - 19s 113ms/step - loss: 3.4802 - accuracy: 0.2336\n",
      "Epoch 58/100\n",
      "167/167 [==============================] - 19s 112ms/step - loss: 3.4448 - accuracy: 0.2418\n",
      "Epoch 59/100\n",
      "167/167 [==============================] - 19s 113ms/step - loss: 3.4189 - accuracy: 0.2426\n",
      "Epoch 60/100\n",
      "167/167 [==============================] - 19s 113ms/step - loss: 3.3956 - accuracy: 0.2458\n",
      "Epoch 61/100\n",
      "167/167 [==============================] - 19s 112ms/step - loss: 3.3567 - accuracy: 0.2540\n",
      "Epoch 62/100\n",
      "167/167 [==============================] - 19s 113ms/step - loss: 3.3201 - accuracy: 0.2580\n",
      "Epoch 63/100\n",
      "167/167 [==============================] - 19s 112ms/step - loss: 3.3027 - accuracy: 0.2593\n",
      "Epoch 64/100\n",
      "167/167 [==============================] - 19s 116ms/step - loss: 3.2638 - accuracy: 0.2649\n",
      "Epoch 65/100\n",
      "167/167 [==============================] - 19s 113ms/step - loss: 3.2391 - accuracy: 0.2705\n",
      "Epoch 66/100\n",
      "167/167 [==============================] - 19s 114ms/step - loss: 3.2150 - accuracy: 0.2711\n",
      "Epoch 67/100\n",
      "167/167 [==============================] - 19s 114ms/step - loss: 3.2143 - accuracy: 0.2709\n",
      "Epoch 68/100\n",
      "167/167 [==============================] - 19s 113ms/step - loss: 3.1825 - accuracy: 0.2801\n",
      "Epoch 69/100\n",
      "167/167 [==============================] - 19s 113ms/step - loss: 3.1544 - accuracy: 0.2793\n",
      "Epoch 70/100\n",
      "167/167 [==============================] - 19s 113ms/step - loss: 3.1225 - accuracy: 0.2845\n",
      "Epoch 71/100\n",
      "167/167 [==============================] - 19s 113ms/step - loss: 3.1012 - accuracy: 0.2901\n",
      "Epoch 72/100\n",
      "167/167 [==============================] - 19s 113ms/step - loss: 3.0758 - accuracy: 0.2958\n",
      "Epoch 73/100\n",
      "167/167 [==============================] - 19s 113ms/step - loss: 3.0412 - accuracy: 0.2988\n",
      "Epoch 74/100\n",
      "167/167 [==============================] - 19s 113ms/step - loss: 3.0201 - accuracy: 0.2996\n",
      "Epoch 75/100\n",
      "167/167 [==============================] - 19s 113ms/step - loss: 2.9977 - accuracy: 0.3035\n",
      "Epoch 76/100\n",
      "167/167 [==============================] - 19s 112ms/step - loss: 2.9698 - accuracy: 0.3100\n",
      "Epoch 77/100\n",
      "167/167 [==============================] - 19s 112ms/step - loss: 2.9460 - accuracy: 0.3098\n",
      "Epoch 78/100\n",
      "167/167 [==============================] - 19s 112ms/step - loss: 2.9127 - accuracy: 0.3186\n",
      "Epoch 79/100\n"
     ]
    },
    {
     "name": "stdout",
     "output_type": "stream",
     "text": [
      "167/167 [==============================] - 19s 113ms/step - loss: 2.8913 - accuracy: 0.3226\n",
      "Epoch 80/100\n",
      "167/167 [==============================] - 19s 113ms/step - loss: 2.8638 - accuracy: 0.3275\n",
      "Epoch 81/100\n",
      "167/167 [==============================] - 19s 114ms/step - loss: 2.8418 - accuracy: 0.3307\n",
      "Epoch 82/100\n",
      "167/167 [==============================] - 19s 114ms/step - loss: 2.8176 - accuracy: 0.3369\n",
      "Epoch 83/100\n",
      "167/167 [==============================] - 19s 113ms/step - loss: 2.7933 - accuracy: 0.3408\n",
      "Epoch 84/100\n",
      "167/167 [==============================] - 19s 114ms/step - loss: 2.7715 - accuracy: 0.3434\n",
      "Epoch 85/100\n",
      "167/167 [==============================] - 19s 113ms/step - loss: 2.7474 - accuracy: 0.3446\n",
      "Epoch 86/100\n",
      "167/167 [==============================] - 19s 114ms/step - loss: 2.7221 - accuracy: 0.3507\n",
      "Epoch 87/100\n",
      "167/167 [==============================] - 19s 113ms/step - loss: 2.6957 - accuracy: 0.3578\n",
      "Epoch 88/100\n",
      "167/167 [==============================] - 19s 113ms/step - loss: 2.6709 - accuracy: 0.3601\n",
      "Epoch 89/100\n",
      "167/167 [==============================] - 19s 113ms/step - loss: 2.6478 - accuracy: 0.3662\n",
      "Epoch 90/100\n",
      "167/167 [==============================] - 19s 113ms/step - loss: 2.6285 - accuracy: 0.3679\n",
      "Epoch 91/100\n",
      "167/167 [==============================] - 19s 113ms/step - loss: 2.6027 - accuracy: 0.3742\n",
      "Epoch 92/100\n",
      "167/167 [==============================] - 19s 113ms/step - loss: 2.5833 - accuracy: 0.3765\n",
      "Epoch 93/100\n",
      "167/167 [==============================] - 19s 113ms/step - loss: 2.5584 - accuracy: 0.3827\n",
      "Epoch 94/100\n",
      "167/167 [==============================] - 19s 113ms/step - loss: 2.5355 - accuracy: 0.3883\n",
      "Epoch 95/100\n",
      "167/167 [==============================] - 19s 113ms/step - loss: 2.5159 - accuracy: 0.3865\n",
      "Epoch 96/100\n",
      "167/167 [==============================] - 19s 113ms/step - loss: 2.4919 - accuracy: 0.3957\n",
      "Epoch 97/100\n",
      "167/167 [==============================] - 19s 115ms/step - loss: 2.4696 - accuracy: 0.3966\n",
      "Epoch 98/100\n",
      "167/167 [==============================] - 19s 114ms/step - loss: 2.4495 - accuracy: 0.4009\n",
      "Epoch 99/100\n",
      "167/167 [==============================] - 19s 113ms/step - loss: 2.4248 - accuracy: 0.4093\n",
      "Epoch 100/100\n",
      "167/167 [==============================] - 19s 113ms/step - loss: 2.4078 - accuracy: 0.4073\n"
     ]
    }
   ],
   "source": [
    "# fit model and assign as history\n",
    "history = model.fit(X, y, batch_size=128, epochs=100)"
   ]
  },
  {
   "cell_type": "markdown",
   "id": "ed23346d",
   "metadata": {},
   "source": [
    "#### Plot Accuracy & Loss Curve"
   ]
  },
  {
   "cell_type": "code",
   "execution_count": 22,
   "id": "9cff124d",
   "metadata": {},
   "outputs": [
    {
     "name": "stdout",
     "output_type": "stream",
     "text": [
      "dict_keys(['loss', 'accuracy'])\n"
     ]
    }
   ],
   "source": [
    "print(history.history.keys())"
   ]
  },
  {
   "cell_type": "code",
   "execution_count": 23,
   "id": "c03ef2d9",
   "metadata": {},
   "outputs": [
    {
     "data": {
      "image/png": "[encoded data removed]",
      "text/plain": [
       "<Figure size 864x504 with 1 Axes>"
      ]
     },
     "metadata": {
      "needs_background": "light"
     },
     "output_type": "display_data"
    }
   ],
   "source": [
    "# plot train accuracy and loss curves\n",
    "\n",
    "# figure size and plot style\n",
    "plt.figure(figsize=(12,7)) \n",
    "plt.style.use('seaborn-whitegrid') \n",
    "\n",
    "# plot loss and accuracy curve\n",
    "plt.plot(history.history['loss'], label='Train Loss')\n",
    "plt.plot(history.history['accuracy'], label='Train Accuracy')\n",
    "plt.legend(fontsize=20);\n",
    "\n",
    "# plot title\n",
    "plt.title('Accuracy/Loss Curve', fontsize=30, pad=20, weight='bold')\n",
    "# x-axis label\n",
    "plt.xlabel('Number of Epochs', fontsize=20, labelpad=20)\n",
    "# y-axis label\n",
    "plt.ylabel('Accuracy/Loss Score', fontsize=20, labelpad=20)\n",
    "# x-ticks\n",
    "plt.xticks(fontsize=14)\n",
    "# y-ticks\n",
    "plt.yticks(fontsize=14)\n",
    "\n",
    "plt.savefig('../data/Acc_Loss_Curve_Ref_Model.png')"
   ]
  },
  {
   "cell_type": "markdown",
   "id": "d605f429",
   "metadata": {},
   "source": [
    "From the accuracy/loss curve above, we observe that there is a gradual decrease in loss score as the number of epochs increases. On the other hand, the accuracy score of the model increases gradually as the number of epochs increases. However, the accuracy score of the reference model would not be a good determinant of the language model performance in generating new text. According to the reference text, an accuracy score greater than 0.50 would likely produce decent results. We will examine the BLEU score after applying the model to generate new text and evluate the model performance.  "
   ]
  },
  {
   "cell_type": "markdown",
   "id": "c65ba811",
   "metadata": {},
   "source": [
    "#### Model Summary"
   ]
  },
  {
   "cell_type": "code",
   "execution_count": 24,
   "id": "c60501d9",
   "metadata": {},
   "outputs": [
    {
     "name": "stdout",
     "output_type": "stream",
     "text": [
      "Model: \"sequential\"\n",
      "_________________________________________________________________\n",
      "Layer (type)                 Output Shape              Param #   \n",
      "=================================================================\n",
      "embedding (Embedding)        (None, 50, 50)            126700    \n",
      "_________________________________________________________________\n",
      "lstm (LSTM)                  (None, 50, 100)           60400     \n",
      "_________________________________________________________________\n",
      "lstm_1 (LSTM)                (None, 100)               80400     \n",
      "_________________________________________________________________\n",
      "dense (Dense)                (None, 100)               10100     \n",
      "_________________________________________________________________\n",
      "dense_1 (Dense)              (None, 2534)              255934    \n",
      "=================================================================\n",
      "Total params: 533,534\n",
      "Trainable params: 533,534\n",
      "Non-trainable params: 0\n",
      "_________________________________________________________________\n"
     ]
    }
   ],
   "source": [
    "# print model summary\n",
    "model.summary()"
   ]
  },
  {
   "cell_type": "markdown",
   "id": "097d20eb",
   "metadata": {},
   "source": [
    "#### Save Model"
   ]
  },
  {
   "cell_type": "code",
   "execution_count": 26,
   "id": "5d0d7776",
   "metadata": {},
   "outputs": [],
   "source": [
    "# save model to file\n",
    "model.save('model_ref.h5')\n",
    "# save the tokenizer\n",
    "dump(tokenizer, open('tokenizer.pkl', 'wb'))"
   ]
  }
 ],
 "metadata": {
  "kernelspec": {
   "display_name": "Python 3",
   "language": "python",
   "name": "python3"
  },
  "language_info": {
   "codemirror_mode": {
    "name": "ipython",
    "version": 3
   },
   "file_extension": ".py",
   "mimetype": "text/x-python",
   "name": "python",
   "nbconvert_exporter": "python",
   "pygments_lexer": "ipython3",
   "version": "3.8.8"
  }
 },
 "nbformat": 4,
 "nbformat_minor": 5
}
